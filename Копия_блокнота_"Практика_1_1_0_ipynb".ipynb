{
  "nbformat": 4,
  "nbformat_minor": 0,
  "metadata": {
    "colab": {
      "provenance": [],
      "include_colab_link": true
    },
    "kernelspec": {
      "name": "python3",
      "display_name": "Python 3"
    },
    "language_info": {
      "name": "python"
    }
  },
  "cells": [
    {
      "cell_type": "markdown",
      "metadata": {
        "id": "view-in-github",
        "colab_type": "text"
      },
      "source": [
        "<a href=\"https://colab.research.google.com/github/overs33rX-x/python_practice/blob/main/%D0%9A%D0%BE%D0%BF%D0%B8%D1%8F_%D0%B1%D0%BB%D0%BE%D0%BA%D0%BD%D0%BE%D1%82%D0%B0_%22%D0%9F%D1%80%D0%B0%D0%BA%D1%82%D0%B8%D0%BA%D0%B0_1_1_0_ipynb%22.ipynb\" target=\"_parent\"><img src=\"https://colab.research.google.com/assets/colab-badge.svg\" alt=\"Open In Colab\"/></a>"
      ]
    },
    {
      "cell_type": "markdown",
      "source": [
        "**ФИО:**"
      ],
      "metadata": {
        "id": "GEsFKJm-ABFp"
      }
    },
    {
      "cell_type": "code",
      "execution_count": null,
      "metadata": {
        "id": "wZMLYG_G_-19"
      },
      "outputs": [],
      "source": [
        "Тойбич Федор Александрович"
      ]
    },
    {
      "cell_type": "markdown",
      "source": [
        "# Задание 1"
      ],
      "metadata": {
        "id": "H4DrYnJjADuZ"
      }
    },
    {
      "cell_type": "markdown",
      "source": [
        "**Описание:** Создайте иерархию классов для разных типов сотрудников в компании. Реализуйте родительский класс Employee и дочерние классы Manager и Developer. Каждый класс должен иметь метод для расчета зарплаты на основе различных критериев класса.\n",
        "\n",
        "\n",
        "Отрабатываемый принцип: Наследование\n",
        "\n"
      ],
      "metadata": {
        "id": "C17FWep-AF4a"
      }
    },
    {
      "cell_type": "code",
      "source": [
        "class Employee:\n",
        "    def __init__(self, count_hours):\n",
        "\n",
        "        self.count_hours = count_hours\n",
        "\n",
        "    def get_money(self):\n",
        "        sm = self.cash_for_an_hour * self.count_hours\n",
        "        print(f'Зарплата в день = {sm}')\n",
        "\n",
        "\n",
        "class Manager(Employee):\n",
        "    def __init__(self, count_hours):\n",
        "        super().__init__(count_hours)\n",
        "        self.cash_for_an_hour = 600\n",
        "\n",
        "\n",
        "class Developer(Employee):\n",
        "    def __init__(self, count_hours):\n",
        "        super().__init__(count_hours)\n",
        "        self.cash_for_an_hour = 1000\n",
        "\n",
        "\n",
        "manager = Manager(12)\n",
        "developer = Developer(12)\n",
        "\n",
        "manager.get_money()\n",
        "developer.get_money()"
      ],
      "metadata": {
        "id": "aexGXzqCAFH7"
      },
      "execution_count": null,
      "outputs": []
    },
    {
      "cell_type": "markdown",
      "source": [
        "# Задание 2"
      ],
      "metadata": {
        "id": "ERAi0TG5BI6v"
      }
    },
    {
      "cell_type": "markdown",
      "source": [
        "**Описание:** Создайте иерархию классов для различных типов транспортных средств (Необходим один родительский класс и 3 дочерних). Реализуйте метод, который позволяет каждому транспортному средству возвращать собственное описание (Метод в каждом классе должен иметь одинаковое название). Продемонстрируйте вызов данного метода для каждого транспортного средства.\n",
        "\n",
        "\n",
        "Отрабатываемый принцип: Полиморфизм"
      ],
      "metadata": {
        "id": "sJ3k7ZcgBK87"
      }
    },
    {
      "cell_type": "code",
      "source": [
        "class Transport:\n",
        "    def __init__(self, count_wheel, motor, color, max_speed):\n",
        "        self.count_wheel = count_wheel\n",
        "        self.motor = motor\n",
        "        self.color = color\n",
        "        self.max_speed = max_speed\n",
        "\n",
        "    def print_atributes(self):\n",
        "        print(f'мотор- {self.motor}\\nколичество колес- {self.count_wheel}\\nцвет- {self.color}\\nмаксимальная скорость- {self.max_speed}')\n",
        "\n",
        "\n",
        "class SuperCar(Transport):\n",
        "    def __init__(self, count_wheel, motor, color, max_speed):\n",
        "        super().__init__(count_wheel, motor, color, max_speed)\n",
        "\n",
        "\n",
        "    def print_atributes(self):\n",
        "        print(f'Данная машина предназначена для скоростной езды по специальным трекам\\nмотор- {self.motor}\\nколичество колес- {self.count_wheel}\\nцвет- {self.color}\\nмаксимальная скорость- {self.max_speed}')\n",
        "\n",
        "\n",
        "class Track(Transport):\n",
        "    def __init__(self, count_wheel, motor, color, max_speed):\n",
        "        super().__init__(count_wheel, motor, color, max_speed)\n",
        "\n",
        "\n",
        "    def print_atributes(self):\n",
        "        print(f'Данный грузовик предназначен для перевозки тяжелых грузов\\nмотор- {self.motor}\\nколичество колес- {self.count_wheel}\\nцвет- {self.color}\\nмаксимальная скорость- {self.max_speed}')\n",
        "\n",
        "\n",
        "\n",
        "class Motobike(Transport):\n",
        "    def __init__(self, count_wheel, motor, color, max_speed):\n",
        "        super().__init__(count_wheel, motor, color, max_speed)\n",
        "\n",
        "    def print_atributes(self):\n",
        "        print(f'Данный аппарат предназначен для маневренной езды по общественным дорогам\\nмотор- {self.motor}\\nколичество колес- {self.count_wheel}\\nцвет- {self.color}\\nмаксимальная скорость- {self.max_speed}')\n",
        "\n",
        "\n",
        "\n",
        "supercar = SuperCar(4, 'v8', 'red', 400)\n",
        "track = Track(8, 'v6', 'grey', 200)\n",
        "motobike = Motobike(2, 'v2', 'blue', 320)\n",
        "\n",
        "supercar.print_atributes()\n",
        "print()\n",
        "track.print_atributes()\n",
        "print()\n",
        "motobike.print_atributes()"
      ],
      "metadata": {
        "id": "WOFOZQmDBKf4"
      },
      "execution_count": null,
      "outputs": []
    },
    {
      "cell_type": "markdown",
      "source": [
        "# Задание 3"
      ],
      "metadata": {
        "id": "7E_SJXMJBvD4"
      }
    },
    {
      "cell_type": "markdown",
      "source": [
        "Онлайн-магазин:\n",
        "- Создайте модель для онлайн-магазина с классами Product, Order, Customer, и ShoppingCart.\n",
        "- Product включает информацию о цене, наличии на складе и категории товара.\n",
        "Order обрабатывает процесс покупки, включая расчет цены с учетом скидок и налогов.\n",
        "- Customer управляет информацией о пользователе и его истории заказов.\n",
        "- ShoppingCart позволяет добавлять, удалять и обновлять количество товаров перед оформлением заказа.\n"
      ],
      "metadata": {
        "id": "dd1mwKj_BxHa"
      }
    },
    {
      "cell_type": "code",
      "source": [],
      "metadata": {
        "id": "wkCcv_K-Bwdv"
      },
      "execution_count": null,
      "outputs": []
    },
    {
      "cell_type": "markdown",
      "source": [
        "# Задание 4"
      ],
      "metadata": {
        "id": "ih7iPlYfB7lL"
      }
    },
    {
      "cell_type": "markdown",
      "source": [
        "Симулятор космического корабля:\n",
        "- Создайте симулятор управления космическим кораблем с классами SpaceShip, CrewMember, и Mission.\n",
        "- SpaceShip имеет атрибуты для управления топливом, состоянием корпуса, и текущей скоростью.\n",
        "- CrewMember контролирует здоровье, навыки, и роли в команде (например, пилот, инженер).\n",
        "- Mission определяет цели, ресурсы, и возможные события (например, аварии, встречи с астероидами)."
      ],
      "metadata": {
        "id": "zLwqVCbpCBvc"
      }
    },
    {
      "cell_type": "code",
      "source": [
        "class SpaceShip:\n",
        "    def __init__(self, name, fuel, hull_condition, speed):\n",
        "        self.name = name\n",
        "        self.fuel = fuel\n",
        "        self.hull_condition = hull_condition\n",
        "        self.speed = speed\n",
        "\n",
        "\n",
        "    def status(self):\n",
        "        print(f'Корабль: {self.name}')\n",
        "        print(f'Топливо: {self.fuel}')\n",
        "        print(f'Состояние корпуса: {self.hull_condition}')\n",
        "        print(f'Текущая скорость: {self.speed}')\n",
        "\n",
        "\n",
        "    def up_energy(self, amount):\n",
        "        self.fuel += amount\n",
        "        print(f'{amount} топлива залито')\n",
        "        print(f'Общее топливо: {self.fuel}')\n",
        "\n",
        "\n",
        "    def fix_ship(self, amount):\n",
        "        self.hull_condition = min(self.hull_condition + amount, 100)\n",
        "        print(f'{amount} корпуса починено')\n",
        "        print(f'Текущее состояние: {self.hull_condition}')\n",
        "\n",
        "\n",
        "    def accelerate(self, increase):\n",
        "        self.speed += increase\n",
        "        print(f'Скорость увеличена на {increase}')\n",
        "        print(f'Текущая скорость: {self.speed}')\n",
        "\n",
        "\n",
        "class CrewMember:\n",
        "    def __init__(self, name, role, health, skills):\n",
        "        self.name = name\n",
        "        self.role = role\n",
        "        self.health = health\n",
        "        self.skills = skills\n",
        "\n",
        "    def status(self):\n",
        "        print(f'Член экипажа: {self.name}')\n",
        "        print(f'Роль: {self.role}')\n",
        "        print(f'Здоровье: {self.health}')\n",
        "        print(f'Навыки: {\", \".join(self.skills)}')\n",
        "\n",
        "    def heal(self, amount):\n",
        "        self.health = min(self.health + amount, 100)\n",
        "        print(f'{self.name} вылечен на {amount}')\n",
        "        print(f'Текущее здоровье: {self.health}')\n",
        "\n",
        "\n",
        "class Mission:\n",
        "    def __init__(self, objectives, resources, events):\n",
        "        self.objectives = objectives\n",
        "        self.resources = resources\n",
        "        self.events = events\n",
        "\n",
        "    def status(self):\n",
        "        print(f'Цели миссии:')\n",
        "        for objective in self.objectives:\n",
        "            print(f' {objective}')\n",
        "\n",
        "        print('Ваши ресурсы:')\n",
        "        for resource in self.resources:\n",
        "            print(f' {resource}')\n",
        "\n",
        "        print('События:')\n",
        "        for event in self.events:\n",
        "            print(f' {event}')\n",
        "\n",
        "\n",
        "def main():\n",
        "    list_Of_obj = []\n",
        "    list_of_res = []\n",
        "    list_of_even = []\n",
        "    skill_list = []\n",
        "    eng_list = []\n",
        "\n",
        "    name = input('Введите имя корабля: ')\n",
        "    fuel = int(input('Введите значение топлива от 1 до 100: '))\n",
        "    hull_condition = int(input('Введите значение целостности корабля от 1 до 100: '))\n",
        "    speed = int(input('Введите значение скорости: '))\n",
        "    print()\n",
        "\n",
        "    spaceship = SpaceShip(name, fuel, hull_condition, speed)\n",
        "\n",
        "    pilot_name = input('Выберете имя для своего пилота ')\n",
        "    pilot_hp = int(input('Введите значение здоровья пилота '))\n",
        "    for i in range(1, 3):\n",
        "        skill = input(f'{i} Напишите скил вашего пилота: ')\n",
        "        skill_list.append(skill)\n",
        "\n",
        "    pilot = CrewMember(pilot_name, \"Пилот\", pilot_hp, skill_list)\n",
        "\n",
        "    eng_name = input('Выберете имя для своего инженера ')\n",
        "    eng_hp = int(input('Введите значение здоровья инженера '))\n",
        "    for i in range(1, 3):\n",
        "        skill = input(f'{i} Напишите скил вашего инженера: ')\n",
        "        eng_list.append(skill)\n",
        "\n",
        "    engineer = CrewMember(eng_name, \"Инженер\", eng_hp, eng_list)\n",
        "\n",
        "    for i in range(1, 4):\n",
        "        objectives = input(f'{i} Введите событие: ')\n",
        "        list_Of_obj.append(objectives)\n",
        "    print()\n",
        "\n",
        "    for i in range(1, 4):\n",
        "        res = input(f'{i} Введите ресурс: ')\n",
        "        list_of_res.append(res)\n",
        "    print()\n",
        "\n",
        "    for i in range(1, 4):\n",
        "        ev = input(f'{i} Введите ивент: ')\n",
        "        list_of_even.append(ev)\n",
        "    print()\n",
        "\n",
        "    mission = Mission(list_Of_obj, list_of_res, list_of_even)\n",
        "\n",
        "    print('\\nОтлично! Все параметры заданы заданы!\\nВыберете одно из действий:')\n",
        "    print('1 - Работать с классом SpaceShip\\n2 - Работать с классом CrewMember\\n3 - Работать с классом Mission\\n4 - Завершить экспедицию\\n')\n",
        "\n",
        "\n",
        "    while True:\n",
        "        main_answer = int(input('С каким классом вы хотите работать? '))\n",
        "\n",
        "        if main_answer == 1:\n",
        "            print('1 - Просмотреть статус\\n2 - Залить топлево\\n3 - Починить корабль\\n4 - Увеличить скорость')\n",
        "            second = int(input('Что именно вы хотите сделать? '))\n",
        "            print()\n",
        "\n",
        "            if second == 1:\n",
        "                spaceship.status()\n",
        "            elif second == 2:\n",
        "                refuel = int(input('Сколько топлева вы хотите залить? '))\n",
        "                spaceship.up_energy(refuel)\n",
        "                print()\n",
        "            elif second == 3:\n",
        "                refuel = int(input('Сколько процентов корабля вы хотите починить? '))\n",
        "                spaceship.fix_ship(refuel)\n",
        "                print()\n",
        "            elif second == 4:\n",
        "                refuel = int(input('На сколько вы хотите увеличить скорость? '))\n",
        "                spaceship.accelerate(refuel)\n",
        "                print()\n",
        "\n",
        "        elif main_answer == 3:\n",
        "            print('Отлично. Вывожу данные о ваших экспедициях и запасах')\n",
        "            mission.status()\n",
        "\n",
        "        elif main_answer == 4:\n",
        "            print('Ваша экспедиция окончена')\n",
        "            break\n",
        "\n",
        "        elif main_answer == 2:\n",
        "\n",
        "            print('1 - Посмотреть статус\\n2 - Похилить')\n",
        "            third = int(input('Ваше действие: '))\n",
        "            if third == 1:\n",
        "                print()\n",
        "                print('1 - Пилот\\n2 - Инженер')\n",
        "                man_name = int(input('Чей статус вы хотите посмотреть? '))\n",
        "\n",
        "                if man_name == 1:\n",
        "                    pilot.status()\n",
        "                if man_name == 2:\n",
        "                    engineer.status()\n",
        "\n",
        "            elif third == 2:\n",
        "                print()\n",
        "                print('1 - Пилот\\n2 - Инженер')\n",
        "                heal_name = int(input('Кого вы хотите похилить? '))\n",
        "                print()\n",
        "\n",
        "                if heal_name == 1:\n",
        "                    how_many = int(input('Сколько едениц здоровья? '))\n",
        "                    pilot.heal(how_many)\n",
        "                elif heal_name == 2:\n",
        "                    how_many = int(input('Сколько едениц здоровья? '))\n",
        "                    engineer.heal(how_many)\n",
        "main()"
      ],
      "metadata": {
        "id": "4NyrOOy8B9ED"
      },
      "execution_count": null,
      "outputs": []
    },
    {
      "cell_type": "markdown",
      "source": [
        "# Дополнительно:"
      ],
      "metadata": {
        "id": "F7mRVsZjCXk0"
      }
    },
    {
      "cell_type": "markdown",
      "source": [
        "**Описание:** создайте консольную версию игры крестики-нолики, используя классы"
      ],
      "metadata": {
        "id": "X4Lkf86UCc1h"
      }
    },
    {
      "cell_type": "code",
      "source": [],
      "metadata": {
        "id": "x9OxpNsyCcUo"
      },
      "execution_count": null,
      "outputs": []
    }
  ]
}