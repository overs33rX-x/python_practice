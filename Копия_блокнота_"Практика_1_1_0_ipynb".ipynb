{
  "nbformat": 4,
  "nbformat_minor": 0,
  "metadata": {
    "colab": {
      "provenance": [],
      "include_colab_link": true
    },
    "kernelspec": {
      "name": "python3",
      "display_name": "Python 3"
    },
    "language_info": {
      "name": "python"
    }
  },
  "cells": [
    {
      "cell_type": "markdown",
      "metadata": {
        "id": "view-in-github",
        "colab_type": "text"
      },
      "source": [
        "<a href=\"https://colab.research.google.com/github/overs33rX-x/python_practice/blob/main/%D0%9A%D0%BE%D0%BF%D0%B8%D1%8F_%D0%B1%D0%BB%D0%BE%D0%BA%D0%BD%D0%BE%D1%82%D0%B0_%22%D0%9F%D1%80%D0%B0%D0%BA%D1%82%D0%B8%D0%BA%D0%B0_1_1_0_ipynb%22.ipynb\" target=\"_parent\"><img src=\"https://colab.research.google.com/assets/colab-badge.svg\" alt=\"Open In Colab\"/></a>"
      ]
    },
    {
      "cell_type": "markdown",
      "source": [
        "**ФИО:**"
      ],
      "metadata": {
        "id": "GEsFKJm-ABFp"
      }
    },
    {
      "cell_type": "code",
      "execution_count": null,
      "metadata": {
        "id": "wZMLYG_G_-19"
      },
      "outputs": [],
      "source": [
        "Тойбич Федор Александрович"
      ]
    },
    {
      "cell_type": "markdown",
      "source": [
        "# Задание 1"
      ],
      "metadata": {
        "id": "H4DrYnJjADuZ"
      }
    },
    {
      "cell_type": "markdown",
      "source": [
        "**Описание:** Создайте иерархию классов для разных типов сотрудников в компании. Реализуйте родительский класс Employee и дочерние классы Manager и Developer. Каждый класс должен иметь метод для расчета зарплаты на основе различных критериев класса.\n",
        "\n",
        "\n",
        "Отрабатываемый принцип: Наследование\n",
        "\n"
      ],
      "metadata": {
        "id": "C17FWep-AF4a"
      }
    },
    {
      "cell_type": "code",
      "source": [
        "class Employee:\n",
        "    def __init__(self, count_hours):\n",
        "\n",
        "        self.count_hours = count_hours\n",
        "\n",
        "    def get_money(self):\n",
        "        sm = self.cash_for_an_hour * self.count_hours\n",
        "        print(f'Зарплата в день = {sm}')\n",
        "\n",
        "\n",
        "class Manager(Employee):\n",
        "    def __init__(self, count_hours):\n",
        "        super().__init__(count_hours)\n",
        "        self.cash_for_an_hour = 600\n",
        "\n",
        "\n",
        "class Developer(Employee):\n",
        "    def __init__(self, count_hours):\n",
        "        super().__init__(count_hours)\n",
        "        self.cash_for_an_hour = 1000\n",
        "\n",
        "\n",
        "manager = Manager(12)\n",
        "developer = Developer(12)\n",
        "\n",
        "manager.get_money()\n",
        "developer.get_money()"
      ],
      "metadata": {
        "id": "aexGXzqCAFH7"
      },
      "execution_count": null,
      "outputs": []
    },
    {
      "cell_type": "markdown",
      "source": [
        "# Задание 2"
      ],
      "metadata": {
        "id": "ERAi0TG5BI6v"
      }
    },
    {
      "cell_type": "markdown",
      "source": [
        "**Описание:** Создайте иерархию классов для различных типов транспортных средств (Необходим один родительский класс и 3 дочерних). Реализуйте метод, который позволяет каждому транспортному средству возвращать собственное описание (Метод в каждом классе должен иметь одинаковое название). Продемонстрируйте вызов данного метода для каждого транспортного средства.\n",
        "\n",
        "\n",
        "Отрабатываемый принцип: Полиморфизм"
      ],
      "metadata": {
        "id": "sJ3k7ZcgBK87"
      }
    },
    {
      "cell_type": "code",
      "source": [
        "class Transport:\n",
        "    def __init__(self, count_wheel, motor, color, max_speed):\n",
        "        self.count_wheel = count_wheel\n",
        "        self.motor = motor\n",
        "        self.color = color\n",
        "        self.max_speed = max_speed\n",
        "\n",
        "    def print_atributes(self):\n",
        "        print(f'мотор- {self.motor}\\nколичество колес- {self.count_wheel}\\nцвет- {self.color}\\nмаксимальная скорость- {self.max_speed}')\n",
        "\n",
        "\n",
        "class SuperCar(Transport):\n",
        "    def __init__(self, count_wheel, motor, color, max_speed):\n",
        "        super().__init__(count_wheel, motor, color, max_speed)\n",
        "\n",
        "\n",
        "    def print_atributes(self):\n",
        "        print(f'Данная машина предназначена для скоростной езды по специальным трекам\\nмотор- {self.motor}\\nколичество колес- {self.count_wheel}\\nцвет- {self.color}\\nмаксимальная скорость- {self.max_speed}')\n",
        "\n",
        "\n",
        "class Track(Transport):\n",
        "    def __init__(self, count_wheel, motor, color, max_speed):\n",
        "        super().__init__(count_wheel, motor, color, max_speed)\n",
        "\n",
        "\n",
        "    def print_atributes(self):\n",
        "        print(f'Данный грузовик предназначен для перевозки тяжелых грузов\\nмотор- {self.motor}\\nколичество колес- {self.count_wheel}\\nцвет- {self.color}\\nмаксимальная скорость- {self.max_speed}')\n",
        "\n",
        "\n",
        "\n",
        "class Motobike(Transport):\n",
        "    def __init__(self, count_wheel, motor, color, max_speed):\n",
        "        super().__init__(count_wheel, motor, color, max_speed)\n",
        "\n",
        "    def print_atributes(self):\n",
        "        print(f'Данный аппарат предназначен для маневренной езды по общественным дорогам\\nмотор- {self.motor}\\nколичество колес- {self.count_wheel}\\nцвет- {self.color}\\nмаксимальная скорость- {self.max_speed}')\n",
        "\n",
        "\n",
        "\n",
        "supercar = SuperCar(4, 'v8', 'red', 400)\n",
        "track = Track(8, 'v6', 'grey', 200)\n",
        "motobike = Motobike(2, 'v2', 'blue', 320)\n",
        "\n",
        "supercar.print_atributes()\n",
        "print()\n",
        "track.print_atributes()\n",
        "print()\n",
        "motobike.print_atributes()"
      ],
      "metadata": {
        "id": "WOFOZQmDBKf4"
      },
      "execution_count": null,
      "outputs": []
    },
    {
      "cell_type": "markdown",
      "source": [
        "# Задание 3"
      ],
      "metadata": {
        "id": "7E_SJXMJBvD4"
      }
    },
    {
      "cell_type": "markdown",
      "source": [
        "Онлайн-магазин:\n",
        "- Создайте модель для онлайн-магазина с классами Product, Order, Customer, и ShoppingCart.\n",
        "- Product включает информацию о цене, наличии на складе и категории товара.\n",
        "Order обрабатывает процесс покупки, включая расчет цены с учетом скидок и налогов.\n",
        "- Customer управляет информацией о пользователе и его истории заказов.\n",
        "- ShoppingCart позволяет добавлять, удалять и обновлять количество товаров перед оформлением заказа.\n"
      ],
      "metadata": {
        "id": "dd1mwKj_BxHa"
      }
    },
    {
      "cell_type": "code",
      "source": [],
      "metadata": {
        "id": "wkCcv_K-Bwdv"
      },
      "execution_count": null,
      "outputs": []
    },
    {
      "cell_type": "markdown",
      "source": [
        "# Задание 4"
      ],
      "metadata": {
        "id": "ih7iPlYfB7lL"
      }
    },
    {
      "cell_type": "markdown",
      "source": [
        "Симулятор космического корабля:\n",
        "- Создайте симулятор управления космическим кораблем с классами SpaceShip, CrewMember, и Mission.\n",
        "- SpaceShip имеет атрибуты для управления топливом, состоянием корпуса, и текущей скоростью.\n",
        "- CrewMember контролирует здоровье, навыки, и роли в команде (например, пилот, инженер).\n",
        "- Mission определяет цели, ресурсы, и возможные события (например, аварии, встречи с астероидами)."
      ],
      "metadata": {
        "id": "zLwqVCbpCBvc"
      }
    },
    {
      "cell_type": "code",
      "source": [],
      "metadata": {
        "id": "4NyrOOy8B9ED"
      },
      "execution_count": null,
      "outputs": []
    },
    {
      "cell_type": "markdown",
      "source": [
        "# Дополнительно:"
      ],
      "metadata": {
        "id": "F7mRVsZjCXk0"
      }
    },
    {
      "cell_type": "markdown",
      "source": [
        "**Описание:** создайте консольную версию игры крестики-нолики, используя классы"
      ],
      "metadata": {
        "id": "X4Lkf86UCc1h"
      }
    },
    {
      "cell_type": "code",
      "source": [],
      "metadata": {
        "id": "x9OxpNsyCcUo"
      },
      "execution_count": null,
      "outputs": []
    }
  ]
}