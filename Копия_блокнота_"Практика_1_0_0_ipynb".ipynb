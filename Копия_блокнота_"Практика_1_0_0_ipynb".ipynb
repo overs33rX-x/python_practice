{
  "nbformat": 4,
  "nbformat_minor": 0,
  "metadata": {
    "colab": {
      "provenance": [],
      "collapsed_sections": [
        "0ct1u6lqE73j",
        "C5DX5Uf2FfP6",
        "b_mJHXcQGI9t"
      ],
      "include_colab_link": true
    },
    "kernelspec": {
      "name": "python3",
      "display_name": "Python 3"
    },
    "language_info": {
      "name": "python"
    }
  },
  "cells": [
    {
      "cell_type": "markdown",
      "metadata": {
        "id": "view-in-github",
        "colab_type": "text"
      },
      "source": [
        "<a href=\"https://colab.research.google.com/github/overs33rX-x/python_practice/blob/main/%D0%9A%D0%BE%D0%BF%D0%B8%D1%8F_%D0%B1%D0%BB%D0%BE%D0%BA%D0%BD%D0%BE%D1%82%D0%B0_%22%D0%9F%D1%80%D0%B0%D0%BA%D1%82%D0%B8%D0%BA%D0%B0_1_0_0_ipynb%22.ipynb\" target=\"_parent\"><img src=\"https://colab.research.google.com/assets/colab-badge.svg\" alt=\"Open In Colab\"/></a>"
      ]
    },
    {
      "cell_type": "markdown",
      "source": [
        "ФИО: Тойбич Федор Александрович ( зачтено 22 11 2024)"
      ],
      "metadata": {
        "id": "fLDS5f_mCnPa"
      }
    },
    {
      "cell_type": "markdown",
      "source": [
        "# Задание (совместное с преподавателем)\n",
        "\n",
        "\n"
      ],
      "metadata": {
        "id": "-CSHUbWzCqeM"
      }
    },
    {
      "cell_type": "markdown",
      "source": [
        "Напишите систему для учёта отпусков с возможностью узнавать, сколько дней отпуска осталось у того или иного сотрудника.\n",
        "Для этого создайте класс Employee со следующими методами:\n",
        "\n",
        "- Метод consume_vacation должен отвечать за списание дней отпуска.\n",
        "\n",
        "Единственный параметр этого метода (кроме self) — количество потраченных отпускных дней (целое число).\n",
        "\n",
        "При вызове метода consume_vacation соответствующее количество дней должно вычитаться из общего числа доступных отпускных дней сотрудника.\n",
        "\n",
        "Чтобы определить число доступных отпускных дней конкретного сотрудника, в классе опишите атрибут экземпляра |, который по умолчанию будет равен значению атрибута класса vacation_days, и используйте этот атрибут в работе метода.\n",
        "\n",
        "- Метод get_vacation_details должен возвращать остаток отпускных дней сотрудника в формате: ```Остаток отпускных дней: <число>.```\n",
        "\n",
        "\n",
        "Чтобы проверить работу программы:\n",
        "1. Создайте экземпляр класса Employee.\n",
        "2. Вызовите метод consume_vacation, указав подходящее значение аргумента, например 7.\n",
        "3. Вызовите метод get_vacation_details."
      ],
      "metadata": {
        "id": "a_flBjZOCwYz"
      }
    },
    {
      "cell_type": "code",
      "source": [
        "class Employee:\n",
        "  vacation_days = 28\n",
        "\n",
        "  def __init__(self, count_days, f_n, s_n, gender):\n",
        "    self.f_n = f_n\n",
        "    self.s_n = s_n\n",
        "    self.gender = gender\n",
        "    self.count_days = count_days\n",
        "    self.all_days = self.vacation_days\n",
        "\n",
        "  def consume_vacation(self):\n",
        "    self.all_days -= self.count_days\n",
        "\n",
        "  def get_vacation_details(self):\n",
        "    print(f'остаток отпускных дней: {self.all_days}')\n",
        "    #return self.all_days\n",
        "\n",
        "employee = Employee(7, 'Вадим', 'Стрельцов', 'М')\n",
        "employee.consume_vacation()\n",
        "employee.get_vacation_details()\n"
      ],
      "metadata": {
        "id": "G4bUraN4CwBI",
        "colab": {
          "base_uri": "https://localhost:8080/"
        },
        "outputId": "0ce04798-7801-4431-c0da-405265cce5d8"
      },
      "execution_count": null,
      "outputs": [
        {
          "output_type": "stream",
          "name": "stdout",
          "text": [
            "21\n",
            "остаток отпускных дней: 21\n"
          ]
        }
      ]
    },
    {
      "cell_type": "markdown",
      "source": [
        "# Задание 1"
      ],
      "metadata": {
        "id": "8XGka5GtEBK1"
      }
    },
    {
      "cell_type": "markdown",
      "source": [
        "Задание:\n",
        "\n",
        "Создайте класс с именем Rectangle который имеет:\n",
        "- Атрибуты ширины и высоты.\n",
        "- Метод расчета площади.\n",
        "- Метод расчета периметра.\n",
        "- Метод отображения размеров прямоугольника.\n",
        "\n",
        "Создайте экземпляр класса Rectangleи продемонстрируйте его функциональность."
      ],
      "metadata": {
        "id": "jQ4qqd8nEZBY"
      }
    },
    {
      "cell_type": "code",
      "source": [
        "class Rectangle:\n",
        "    def __init__(self, hight, width):\n",
        "\n",
        "        self.hight = hight\n",
        "        self.width = width\n",
        "\n",
        "    def S(self):\n",
        "        return f'площадь: {self.hight * self.width}'\n",
        "\n",
        "    def P(self):\n",
        "        return f'периметр: {2 * (self.hight + self.width)}'\n",
        "\n",
        "    def display(self):\n",
        "        return f'высота: {self.hight}\\nширина: {self.width}'\n",
        "\n",
        "\n",
        "hight = 5\n",
        "width = 3\n",
        "rectangle = Rectangle(hight, width)\n",
        "\n",
        "print(rectangle.S())\n",
        "print(rectangle.P())\n",
        "print(rectangle.display())"
      ],
      "metadata": {
        "id": "dG6uNPqTEAvt",
        "colab": {
          "base_uri": "https://localhost:8080/"
        },
        "outputId": "5d3c951e-2a2c-4359-ba53-4f8b6b730319"
      },
      "execution_count": null,
      "outputs": [
        {
          "output_type": "stream",
          "name": "stdout",
          "text": [
            "площадь: 15\n",
            "периметр: 16\n",
            "высота: 5\n",
            "ширина: 3\n"
          ]
        }
      ]
    },
    {
      "cell_type": "markdown",
      "source": [
        "# Задание 2"
      ],
      "metadata": {
        "id": "0ct1u6lqE73j"
      }
    },
    {
      "cell_type": "markdown",
      "source": [
        "Задание: Создайте мини версию банковской системы:\n",
        "\n",
        "\n",
        "Инструкции:\n",
        "\n",
        "1. Создайте класс BankAccountсо следующими атрибутами:\n",
        "    - account_holder -  владелец счета\n",
        "    - balance - баланс счета\n",
        "\n",
        "2. Реализуйте следующие методы:\n",
        "    - Метод для инициализации владельца счета: имя владельца счета и установите начальный баланс на 0.\n",
        "    - deposit(amount): Добавьте указанную сумму к балансу.\n",
        "    - withdraw(amount): Вычесть указанную сумму из баланса, если средств достаточно; в противном случае вывести предупреждение.\n",
        "    - get_balance(): Возврат текущего баланса.\n",
        "\n",
        "\n",
        "Создайте объект класса и продемонстрируйте его возможности"
      ],
      "metadata": {
        "id": "FOpIpcLxE-WK"
      }
    },
    {
      "cell_type": "code",
      "source": [
        "class BankAccountсо:\n",
        "    def __init__(self, account_holder, balance):\n",
        "        self.account_holder = account_holder\n",
        "        self.balance = balance\n",
        "\n",
        "\n",
        "    def info(self):\n",
        "        print(f'имя: {self.account_holder}\\nбаланс: {self.balance}')\n",
        "\n",
        "\n",
        "    def deposit(self, amount):\n",
        "        self.balance += amount\n",
        "        print(f'Ваш баланс: {self.balance}')\n",
        "        return self.balance\n",
        "\n",
        "\n",
        "    def withdraw(self, amount):\n",
        "        if self.balance - amount >= 0:\n",
        "            self.balance -= amount\n",
        "            print(f'Ваш баланс: {self.balance}')\n",
        "            return self.balance\n",
        "        else:\n",
        "            print('Недостаточно средств!')\n",
        "\n",
        "\n",
        "    def get_balance(self):\n",
        "        print(f'текущий баланс: {self.balance}')\n",
        "\n",
        "\n",
        "account_holder = input('Введите имя: ')\n",
        "bankacc = BankAccountсо(account_holder, balance=0)\n",
        "bankacc.info()\n",
        "print()\n",
        "print('Пополнить-1\\nСнять-2\\nБаланс-3\\nСтоп-4\\n')\n",
        "\n",
        "while True:\n",
        "    main = int(input('Команда: '))\n",
        "\n",
        "    if main == 1:\n",
        "        amount1 = int(input('Сколько вы хотите закинуть? '))\n",
        "        bankacc.deposit(amount1)\n",
        "        print()\n",
        "    if main == 2:\n",
        "        amount2 = int(input('Сколько вы хотите снять? '))\n",
        "        bankacc.withdraw(amount2)\n",
        "        print()\n",
        "\n",
        "    if main == 3:\n",
        "        bankacc.get_balance()\n",
        "\n",
        "    if main == 4:\n",
        "        break"
      ],
      "metadata": {
        "id": "WWXNIUrCE99W"
      },
      "execution_count": null,
      "outputs": []
    },
    {
      "cell_type": "markdown",
      "source": [
        "# Задание 3"
      ],
      "metadata": {
        "id": "C5DX5Uf2FfP6"
      }
    },
    {
      "cell_type": "markdown",
      "source": [
        "Возьмите код и задание (Рыцарь и дракон) из предыдущей практики и реализуйте его с применением классов"
      ],
      "metadata": {
        "id": "0cR-MYepFgz6"
      }
    },
    {
      "cell_type": "code",
      "source": [
        "import random as r\n",
        "import time as t\n",
        "\n",
        "\n",
        "class Knight:\n",
        "    def __init__(self, choose_armor, knight, choose_weapon, code, secret, name, mini_dragons):\n",
        "        self.choose_armor = choose_armor\n",
        "        self.knight = knight\n",
        "        self.choose_weapon = choose_weapon\n",
        "        self.code = code\n",
        "        self.secret = secret\n",
        "        self.name = name\n",
        "        self.mini_dragons = mini_dragons\n",
        "\n",
        "\n",
        "    def ARMOR(self):\n",
        "        if self.choose_armor == 1:\n",
        "            self.knight['armor'] = 100\n",
        "            self.knight['attackspeed'] = 150\n",
        "        else:\n",
        "            self.knight['armor'] = 150\n",
        "            self.knight['attackspeed'] = 100\n",
        "        return self.knight\n",
        "\n",
        "\n",
        "    def WEAPON(self):\n",
        "        if self.choose_weapon == 1:\n",
        "            self.knight['damage'] = 200\n",
        "            self.knight['miss attacks'] = 50\n",
        "        else:\n",
        "            self.knight['damage'] = 50\n",
        "            self.knight['miss attacks'] = 200\n",
        "        return self.knight\n",
        "\n",
        "\n",
        "    def health(self):\n",
        "        if self.code == self.secret:\n",
        "            print('\\nU won a Heart of Tarrasque (+100 health)')\n",
        "            self.knight['heathbar'] = 200\n",
        "        else:\n",
        "            print('\\nU didnt win a secret item')\n",
        "            self.knight['healthbar'] = 100\n",
        "\n",
        "        return self.knight\n",
        "\n",
        "\n",
        "    def the_past_of_knight(self):\n",
        "        print('\\nOK sir, finally we have:')\n",
        "        print(self.knight)\n",
        "        t.sleep(2)\n",
        "        print('Мы снова возвращаемся на наш любимый русский язык)\\nпоговорим об управлении:\\na-отскок влево\\nd-отскок вправо\\nw-атаковать')\n",
        "        print('Так же хочется добавить, что урон, указанный в статистике героя является минимальным, ведь с некоторой долей вероятности вашему персонажу может выпасть критический урон в размере 150 процентов от минимального')\n",
        "        print()\n",
        "        print('<ПОВЕСТВОВАНИЕ>')\n",
        "        print(f'Все началось с того, что {self.name} родился в семье охотника на Драконов. Его отец отлично владел мечом, он буквально вырезал драконов стаями, тем самым, спасая деревню от налетов. Но вот однажды, во время очередного налета отца, ему попался дракон с невероятной силой и выносливостью. Рыцарь сражался достойно, но дракон оказался сильнее. В миг из его пасти вырвалось пламя и от отца нашего героя остался лишь черный скелет. В тот же день деревня была оставлена ее жителями и именно с того момента мылыш {self.name} поклялся отомстить Слайраку-самому могущественному дракону.')\n",
        "        print()\n",
        "\n",
        "\n",
        "    def training(self):\n",
        "        print()\n",
        "        print('ОБУЧЕНИЕ')\n",
        "        print(f'{self.name} вырос и направился к логову Слайрака, на пути ему попались стражники, но наш герой набрался опыта за долгие годы тренировок. {self.name} достал мечь и приготовился к бою.')\n",
        "        print()\n",
        "        count_en = 0\n",
        "        count_dmg = 0\n",
        "\n",
        "        while count_dmg != 5 and count_en != 5:\n",
        "\n",
        "            if r.choice(self.mini_dragons) == self.mini_dragons[0]:\n",
        "                print(self.mini_dragons[0])\n",
        "                ur_choice = input('Ваш ход: ')\n",
        "                if ur_choice == 'a' or ur_choice == 'd':\n",
        "                    print('Отлично. Вы уклонились от атаки.\\n')\n",
        "                else:\n",
        "                    count_dmg += 1\n",
        "                    print('Вы получили урон.\\n')\n",
        "\n",
        "            if r.choice(self.mini_dragons) == self.mini_dragons[1]:\n",
        "                print(f'{self.mini_dragons[1]}\\n')\n",
        "                ur_choice = input('Ваш ход: ')\n",
        "                if ur_choice == 'w':\n",
        "                    count_en += 1\n",
        "                    print('Отлично. Вы не дали дракону зарядить супер атаку и нанесли ему урон\\n')\n",
        "                else:\n",
        "                    count_dmg = 5\n",
        "                    print('От супер атаки нельзя уклониться. Вы мертвы.\\n')\n",
        "\n",
        "        if count_en == 5:\n",
        "            print('Вы победили драконов!!!')\n",
        "            return True\n",
        "\n",
        "        elif count_dmg == 5:\n",
        "            print('Вас убили.')\n",
        "            return False\n",
        "\n",
        "\n",
        "class Slyrak:\n",
        "    def __init__(self, knight, slyrak, slyrak_attack):\n",
        "        self.knight = knight\n",
        "        self.slyrak = slyrak\n",
        "        self.slyrak_attack = slyrak_attack\n",
        "\n",
        "\n",
        "    def boss_damage(self):\n",
        "        return self.slyrak['damage']\n",
        "\n",
        "\n",
        "    def boss_hp(self):\n",
        "        return self.slyrak['healthbar']\n",
        "\n",
        "\n",
        "    def knight_dmg(self):\n",
        "        knight_damage = self.knight['damage']\n",
        "        var_of_knight_damage = [knight_damage, knight_damage * 1.2, knight_damage * 1.5]\n",
        "        return r.choice(var_of_knight_damage)\n",
        "\n",
        "\n",
        "    def boss(self):\n",
        "        print('\\n\\n\\n\\n\\n\\n')\n",
        "        print('Вот мы и встретились, Слайрак. Ты поплатишься за смерть моего отца своей жалкой шкруой.')\n",
        "        t.sleep(2)\n",
        "        print('ААААААААААА')\n",
        "        t.sleep(2)\n",
        "        print('Бой начался.')\n",
        "        t.sleep(2)\n",
        "        print()\n",
        "\n",
        "        slyrak_damage = self.boss_damage()\n",
        "        slyrak_hp = self.boss_hp()\n",
        "\n",
        "        if self.knight['miss attacks'] == 200:\n",
        "            miss = [1, 1, 1, 1, 1, 1, 0, 0, 0]\n",
        "        else:\n",
        "            miss = [1, 1, 1, 0, 0, 0, 0, 0, 0]\n",
        "\n",
        "        knight_hp = self.knight['healthbar'] + self.knight['armor']\n",
        "\n",
        "        while knight_hp >= 0 and slyrak_hp >= 0:\n",
        "\n",
        "            true_knight_damage = self.knight_dmg()\n",
        "\n",
        "            if r.choice(self.slyrak_attack) == self.slyrak_attack[0]:\n",
        "                print(self.slyrak_attack[0])\n",
        "                path = input('\\nВаш ход? ')\n",
        "                if path == 'a':\n",
        "                    print('Вы уклонились от атаки')\n",
        "                else:\n",
        "                    if r.choice(miss) == 1:\n",
        "                        print('Слайрак промахнулся атакой')\n",
        "                    else:\n",
        "                        print('Вы получили урон от атаки\\n')\n",
        "                        knight_hp -= slyrak_damage\n",
        "\n",
        "            if r.choice(self.slyrak_attack) == self.slyrak_attack[1]:\n",
        "                print(self.slyrak_attack[1])\n",
        "                path = input('\\nВаш ход? ')\n",
        "                if path == 'd':\n",
        "                    print('Вы уклонились от атаки')\n",
        "                else:\n",
        "                    if r.choice(miss) == 1:\n",
        "                        print('Слайрак промахнулся атакой')\n",
        "                    else:\n",
        "                        print('Вы получили урон от атаки\\n')\n",
        "                        knight_hp -= slyrak_damage\n",
        "\n",
        "            if r.choice(self.slyrak_attack) == self.slyrak_attack[2]:\n",
        "                print(self.slyrak_attack[2])\n",
        "                path = input('\\nВаш ход? ')\n",
        "                if path == 'w':\n",
        "                    print('Вы нанесли Дракону урон.\\n')\n",
        "                    if knight['attackspeed'] > 100:\n",
        "                        slyrak_hp -= (true_knight_damage * 2)\n",
        "                        print(f'здоровье дракона: {slyrak_hp}')\n",
        "                    else:\n",
        "                        slyrak_hp -= true_knight_damage\n",
        "                        print(f'здоровье дракона: {slyrak_hp}')\n",
        "\n",
        "                else:\n",
        "                    print('Вы умерли.\\n')\n",
        "                    knight_hp = 0\n",
        "\n",
        "            if r.choice(self.slyrak_attack) == self.slyrak_attack[3]:\n",
        "                print(self.slyrak_attack[3])\n",
        "                if r.choice(miss) == 1:\n",
        "                    print('Слайрак промахнулся атакой')\n",
        "                else:\n",
        "                    print('Вы получаете двойной урон от атаки.\\n')\n",
        "                    knight_hp -= (slyrak_damage * 2)\n",
        "\n",
        "        if knight_hp <= 0:\n",
        "            print('Я....')\n",
        "            t.sleep(2)\n",
        "            print('проиграл...')\n",
        "            print('Вы мертвы.')\n",
        "            return False\n",
        "        if slyrak_hp <= 0:\n",
        "            print('Ты пал.')\n",
        "            t.sleep(2)\n",
        "            print('прощай, мой заклятый враг')\n",
        "            print('Вы победили слайрака!!!')\n",
        "            return True\n",
        "\n",
        "\n",
        "#self, choose_armor, knight, choose_weapon, code, secret, name, mini_dragons\n",
        "mini_dragons = ['Вас атаковали (следует уклониться)', 'Дракон заряжает супер удар (следует атаковать)']\n",
        "slyrak_attack = ['Слайрак атакует вас справа', 'Слайрак атакует вас слева', 'Слайрак использует супер атаку', 'Слайрак использует атаку с идеальным попаданием']\n",
        "knight = {}\n",
        "slyrak = {'damage': 50, 'healthbar': 1000}\n",
        "secret = r.randint(1, 9)\n",
        "\n",
        "armor1 = 'Assault_Cuirass'\n",
        "armor2 = 'Crimson_Guard'\n",
        "\n",
        "name = input('\\nEnter the name of ur hero: ')\n",
        "knight['name'] = name\n",
        "print()\n",
        "choose_armor = int(input('\\nChoose armor:\\n1-Assault_Cuirass(more attackspeed)\\n2-Crimson_Guard(more protection)\\n'))\n",
        "choose_weapon = int(input('\\nChoose weapon:\\n1-Deadalus(more damage)\\n2-Butterfly(more miss attacks from the enemy)\\n'))\n",
        "code = input('\\nU can win an item to get more health, just input number from 1 to 9. Good luck: ')\n",
        "\n",
        "great_knight = Knight(choose_armor, knight, choose_weapon, code, secret, name, mini_dragons)\n",
        "great_slyrak = Slyrak(knight, slyrak, slyrak_attack)\n",
        "\n",
        "great_knight.ARMOR()\n",
        "great_knight.WEAPON()\n",
        "great_knight.health()\n",
        "great_knight.the_past_of_knight()\n",
        "\n",
        "def main():\n",
        "    ur_choice = input('Напишите \"тренировка\", чтобы начать. ')\n",
        "    if ur_choice == 'тренировка':\n",
        "        if not great_knight.training():\n",
        "            print('Вы не прошли обучение. Попробуйте еще раз')\n",
        "            t.sleep(2)\n",
        "            great_knight.training()\n",
        "\n",
        "        else:\n",
        "            print('Вы успешно прошли обучение!')\n",
        "    print()\n",
        "    main_choice = input('Напишите \"слайрак\", чтобы начать финальный бой. ')\n",
        "    if main_choice == 'слайрак':\n",
        "        if not great_slyrak.boss():\n",
        "            great_slyrak.boss()\n",
        "    else:\n",
        "        print('Такой команды нет')\n",
        "main()"
      ],
      "metadata": {
        "id": "Oz9BZbhAFwua"
      },
      "execution_count": null,
      "outputs": []
    },
    {
      "cell_type": "markdown",
      "source": [
        "# Дополнительное задание\n"
      ],
      "metadata": {
        "id": "b_mJHXcQGI9t"
      }
    },
    {
      "cell_type": "markdown",
      "source": [
        "Задача: Система управления библиотекой\n",
        "\n",
        "**Цель**\n",
        "Создайте простую систему управления библиотекой, которая позволит пользователям добавлять книги, брать книги, возвращать книги и просматривать список доступных книг.\n",
        "\n",
        "**Требования**\n",
        "\n",
        "1. **Определение класса**:\n",
        "   – Создайте класс с именем «Book» со следующими атрибутами:\n",
        "     - `title`\n",
        "     - `автор`\n",
        "     - `isbn`\n",
        "     - `is_borrowed` (по умолчанию `False`)\n",
        "\n",
        "2. **Класс библиотеки**:\n",
        "   - Создайте класс с именем Library, который управляет коллекцией книг.\n",
        "   - Класс должен иметь следующие методы:\n",
        "     - `__init__(self)`: инициализирует пустой список книг.\n",
        "     - `add_book(self, book: Book)`: добавляет новую книгу в библиотеку.\n",
        "     - `borrow_book(self, isbn: str)`: помечает книгу как заимствованную. Если книга не найдена или уже взята, выведите соответствующее сообщение.\n",
        "     - `return_book(self, isbn: str)`: помечает книгу как возвращенную. Если книга не найдена или не была взята взаймы, выведите соответствующее сообщение.\n",
        "     - `list_available_books(self)`: печатает список всех доступных книг в библиотеке.\n",
        "     - `find_book(self, isbn: str)`: возвращает объект книги, если он найден, в противном случае возвращает `None`.\n",
        "\n",
        "3. **Взаимодействие с пользователем**:\n",
        "   - Создайте простое текстовое меню, которое позволит пользователям:\n",
        "     - Добавить книгу\n",
        "     - Одолжить книгу\n",
        "     - Вернуть книгу\n",
        "     - Список доступных книг\n",
        "     - Выйти из программы"
      ],
      "metadata": {
        "id": "pnIUdFPcGOVL"
      }
    },
    {
      "cell_type": "code",
      "source": [],
      "metadata": {
        "id": "GKKmdfN8GL6f"
      },
      "execution_count": null,
      "outputs": []
    }
  ]
}