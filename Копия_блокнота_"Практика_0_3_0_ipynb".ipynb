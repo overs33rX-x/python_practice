{
  "nbformat": 4,
  "nbformat_minor": 0,
  "metadata": {
    "colab": {
      "provenance": [],
      "include_colab_link": true
    },
    "kernelspec": {
      "name": "python3",
      "display_name": "Python 3"
    },
    "language_info": {
      "name": "python"
    }
  },
  "cells": [
    {
      "cell_type": "markdown",
      "metadata": {
        "id": "view-in-github",
        "colab_type": "text"
      },
      "source": [
        "<a href=\"https://colab.research.google.com/github/overs33rX-x/python_practice/blob/main/%D0%9A%D0%BE%D0%BF%D0%B8%D1%8F_%D0%B1%D0%BB%D0%BE%D0%BA%D0%BD%D0%BE%D1%82%D0%B0_%22%D0%9F%D1%80%D0%B0%D0%BA%D1%82%D0%B8%D0%BA%D0%B0_0_3_0_ipynb%22.ipynb\" target=\"_parent\"><img src=\"https://colab.research.google.com/assets/colab-badge.svg\" alt=\"Open In Colab\"/></a>"
      ]
    },
    {
      "cell_type": "markdown",
      "source": [
        "ФИО"
      ],
      "metadata": {
        "id": "phMKaFq3DN13"
      }
    },
    {
      "cell_type": "code",
      "execution_count": null,
      "metadata": {
        "id": "3CWpaI7SDK8t"
      },
      "outputs": [],
      "source": []
    },
    {
      "cell_type": "markdown",
      "source": [
        "**Во всей практике нельзя применять библиотеки предоставляющие готовые решения!**"
      ],
      "metadata": {
        "id": "jyIy3GOgFOCe"
      }
    },
    {
      "cell_type": "markdown",
      "source": [
        "# **Задача 1.**\n"
      ],
      "metadata": {
        "id": "XizmlL1RK2t3"
      }
    },
    {
      "cell_type": "markdown",
      "source": [
        "\n",
        "\n",
        "Типы данных Напишите программу на Python, которая принимает список чисел в качестве входных данных от пользователя, а затем выводит сумму, среднее значение и максимальное значение из списка.\n",
        "\n",
        "***Нельзя использовать: len(), min(), max(), average(), sum()***\n",
        "\n",
        "Ввод:\n",
        "```\n",
        "1 2 3 4 5 6 7\n",
        "```\n",
        "Вывод:\n",
        "\n",
        "```\n",
        "Сумма чисел: 28\n",
        "Среднее арифм.: 4.0\n",
        "Максимальное значение: 7\n",
        "```\n",
        "\n"
      ],
      "metadata": {
        "id": "p0v6KtHTFKSd"
      }
    },
    {
      "cell_type": "code",
      "source": [
        "def nums(lst):\n",
        "    sr = 0\n",
        "    count = 0\n",
        "    sm = 0\n",
        "    mx = 0\n",
        "    for x in lst:\n",
        "        count += 1\n",
        "        sm += x\n",
        "\n",
        "        if x > mx:\n",
        "            mx = x\n",
        "\n",
        "        sr = sm / count\n",
        "\n",
        "    return 'максимальное значение:', mx, 'сумма равняется:', sm, 'среднее значение равняется:', sr\n",
        "\n",
        "hmn = int(input('Сколько чисел вы хотите ввести? '))\n",
        "\n",
        "lst = []\n",
        "for i in range(hmn):\n",
        "    num = int(input('ВВедите число: '))\n",
        "    lst.append(num)\n",
        "\n",
        "print(nums(lst))\n",
        "\n"
      ],
      "metadata": {
        "id": "0e1Virl0FpF6",
        "colab": {
          "base_uri": "https://localhost:8080/"
        },
        "outputId": "9a6fc90f-39b6-48ab-8db2-3732067ec725"
      },
      "execution_count": null,
      "outputs": [
        {
          "output_type": "stream",
          "name": "stdout",
          "text": [
            "Сколько чисел вы хотите ввести? 5\n",
            "ВВедите число: 1\n",
            "ВВедите число: 2\n",
            "ВВедите число: 3\n",
            "ВВедите число: 4\n",
            "ВВедите число: 5\n",
            "('максимальное значение:', 5, 'сумма равняется:', 15, 'среднее значение равняется:', 3.0)\n"
          ]
        }
      ]
    },
    {
      "cell_type": "markdown",
      "source": [
        "# **Задача 2.**"
      ],
      "metadata": {
        "id": "uFluc5OSK0NH"
      }
    },
    {
      "cell_type": "markdown",
      "source": [
        "\n",
        "Напишите программу на Python, которая принимает список слов в качестве входных данных от пользователя, а затем распечатывает список в обратном порядке.\n",
        "\n",
        "Ввод:\n",
        "\n",
        "```\n",
        "апельсин мандарин яблоко\n",
        "```\n",
        "\n",
        "Вывод:\n",
        "\n",
        "```\n",
        "яблоко мандарин апельсин\n",
        "```"
      ],
      "metadata": {
        "id": "6T8vg324GG4Z"
      }
    },
    {
      "cell_type": "code",
      "source": [
        "def rev(lst):\n",
        "\n",
        "    n_lst = []\n",
        "    for i in range(len(lst) - 1, -1, -1):\n",
        "        n_lst.append(lst[i])\n",
        "\n",
        "    return n_lst\n",
        "\n",
        "\n",
        "hmn = int(input('Сколько слов вы хотите ввести? '))\n",
        "\n",
        "lst = []\n",
        "for i in range(hmn):\n",
        "    word = input('ВВедите слово: ')\n",
        "    lst.append(word)\n",
        "\n",
        "print(rev(lst))"
      ],
      "metadata": {
        "id": "v3AWj4ufGKox"
      },
      "execution_count": null,
      "outputs": []
    },
    {
      "cell_type": "markdown",
      "source": [
        "# **Задача 3**"
      ],
      "metadata": {
        "id": "D1KkCxtIKxRx"
      }
    },
    {
      "cell_type": "markdown",
      "source": [
        "Простой чат-бот\n",
        "Создайте простого чат-бота, который отвечает на основные запросы пользователей. Программа должна использовать условные выражения для определения намерений пользователя и последующего соответствующего ответа.\n",
        "\n",
        "Чат бот может:\n",
        "\n",
        "- помогать складывать числа\n",
        "- подсказывать фильм, музыку и тд (из заранее созданного списка)\n",
        "- создавать список дел (а также выводить его, обновлять, очищать)\n",
        "\n",
        "Интерфейс чат-бота на ваше усмотрение, это могут быть как заранее определенные команды, так и к примеру вызов команды по номеру\n",
        "\n",
        "*Реализовать без использования функций*\n",
        "\n",
        "Пример:\n",
        "\n",
        "Ввод:\n",
        "\n",
        "```\n",
        "Олег, какую мызыку посоветуешь?\n",
        "```\n",
        "\n",
        "Вывод:\n",
        "\n",
        "```\n",
        "Я бы посоветовал вам: Led Zeppelin Stairway to Heaven\n",
        "```"
      ],
      "metadata": {
        "id": "Yq8Jgb9yHvSi"
      }
    },
    {
      "cell_type": "code",
      "source": [
        "import random as r\n",
        "\n",
        "mus = ['Welcome home', 'Seek and destroy', 'Starman', 'OST из доты']\n",
        "films = ['Интерстеллар', 'Престиж', 'Человек-паук', 'Кот в сапогах']\n",
        "work = []\n",
        "nums = []\n",
        "\n",
        "while True:\n",
        "\n",
        "    ques = input('Введите свой запрос: ')\n",
        "\n",
        "    if 'омлет' in ques:\n",
        "        print('Здравствуйте, Вадим! :D')\n",
        "\n",
        "    if 'музыку' in ques or 'песню' in ques or 'музыка' in ques or 'песня' in ques:\n",
        "        print(mus[r.randint(0, len(mus) - 1)])\n",
        "\n",
        "    if 'фильм' in ques or 'фильмы' in ques or 'кино' in ques:\n",
        "        print(films[r.randint(0, len(films) - 1)])\n",
        "\n",
        "    if 'сложи' in ques or 'сумму' in ques or 'прибавь' in ques:\n",
        "        while True:\n",
        "            num = int(input('ваше число: '))\n",
        "            print('Break = 0')\n",
        "            nums.append(num)\n",
        "            print('сумма ваших чисел:', sum(nums))\n",
        "            if num == 0:\n",
        "                nums.clear()\n",
        "                break\n",
        "\n",
        "    if 'дел' in ques or 'дела' in ques or 'занятий' in ques or 'занятия' in ques:\n",
        "        while True:\n",
        "            tusk = input('Введите заметку: ')\n",
        "            work.append(tusk)\n",
        "            #print('Нынешний список', work)\n",
        "\n",
        "            if 'актуальный' in tusk or 'нынешний' in tusk:\n",
        "                print('Вот актуальный список:', work)\n",
        "\n",
        "            if 'очисти' in tusk:\n",
        "                work.clear()\n",
        "                print('У вас нет заметок.')\n",
        "            if tusk == 'стоп':\n",
        "                break\n",
        "\n",
        "    if ques == 'стоп':\n",
        "        print('Сеанс окончен')\n",
        "        break\n"
      ],
      "metadata": {
        "id": "fmW-tmUtINN9",
        "colab": {
          "base_uri": "https://localhost:8080/"
        },
        "outputId": "e05f7b87-6d51-4c52-b208-54e4d728e835"
      },
      "execution_count": null,
      "outputs": [
        {
          "output_type": "stream",
          "name": "stdout",
          "text": [
            "Break = 0\n",
            "сумма ваших чисел: 4\n",
            "Break = 0\n",
            "сумма ваших чисел: 43\n",
            "Break = 0\n",
            "сумма ваших чисел: 43\n",
            "Кот в сапогах\n",
            "OST из доты\n",
            "Здравствуйте, Вадим! :D\n",
            "Введите свой запрос: стоп\n",
            "Сеанс окончен\n"
          ]
        }
      ]
    },
    {
      "cell_type": "markdown",
      "source": [
        "# **Задача 4.**\n"
      ],
      "metadata": {
        "id": "PHXBfyc6Ko7D"
      }
    },
    {
      "cell_type": "markdown",
      "source": [
        "Камень, ножницы, бумага\n",
        "\n",
        "Создайте игру в Камень, ножницы, бумагу, в которой пользователь может играть против компьютера. Программа должна запросить выбор пользователя, а затем сгенерировать выбор компьютера. Затем программа должна определить победителя на основе правил игры.\n",
        "\n",
        "**Этап 1:**\n",
        "\n",
        "Определение победителя\n",
        "\n",
        "**Этап 2:**\n",
        "  \n",
        "Игра до 3 побед\n",
        "\n",
        "\n",
        "Ввод для \"Этап 1\":\n",
        "\n",
        "```\n",
        "Камень\n",
        "```\n",
        "\n",
        "Вывод:\n",
        "\n",
        "```\n",
        "Компьютер: Ножницы\n",
        "Игрок: Камень\n",
        "Победа: Игрок\n",
        "```"
      ],
      "metadata": {
        "id": "jnKWeYleI0j6"
      }
    },
    {
      "cell_type": "code",
      "source": [
        "import random as r\n",
        "\n",
        "def suefa(answer, ai_answer):\n",
        "\n",
        "    if answer == 'камень' and ai_answer == 'бумага':\n",
        "        return False\n",
        "\n",
        "    if answer == 'ножницы' and ai_answer == 'камень':\n",
        "        return False\n",
        "\n",
        "    if answer == 'бумага' and ai_answer == 'ножиницы':\n",
        "        return False\n",
        "\n",
        "    if answer == ai_answer:\n",
        "        return 'same'\n",
        "\n",
        "    else:\n",
        "        return True\n",
        "\n",
        "def winner(m_c, p_c):\n",
        "    if m_c == 3:\n",
        "        return 'Победа ПК'\n",
        "    if p_c == 3:\n",
        "        return 'Победа игрока'\n",
        "\n",
        "\n",
        "lst = ['камень', 'ножницы', 'бумага']\n",
        "x = 0\n",
        "m_c = 0\n",
        "p_c = 0\n",
        "\n",
        "\n",
        "while m_c != 3 or p_c != 3:\n",
        "\n",
        "    pick = input('Ваш ход: ')\n",
        "    m_choice =  r.choice(lst)\n",
        "\n",
        "    if not suefa(pick, m_choice):\n",
        "        m_c += 1\n",
        "        print('Ход ПК-', m_choice)\n",
        "        #print('Ход чела-', pick)\n",
        "        print('ПК- ', m_c, '  ', p_c, ' -Чел')\n",
        "\n",
        "    if suefa(pick, m_choice) == 'same':\n",
        "        p_c -= 1\n",
        "\n",
        "\n",
        "    if suefa(pick, m_choice):\n",
        "        p_c += 1\n",
        "        print('Ход ПК-', m_choice)\n",
        "        #print('Ход чела-', pick)\n",
        "        print('ПК - ', m_c, '  ', p_c, ' - Чел')\n",
        "\n",
        "    print(winner(m_c, p_c))\n",
        "    if winner(m_c, p_c):\n",
        "        break"
      ],
      "metadata": {
        "id": "ooIPCRe_JHkX"
      },
      "execution_count": null,
      "outputs": []
    },
    {
      "cell_type": "markdown",
      "source": [
        "# **Задача 5.**"
      ],
      "metadata": {
        "id": "Hg4FJNFbLHQO"
      }
    },
    {
      "cell_type": "markdown",
      "source": [
        "Создайте игру \"Палач\" или \"Виселица\", в которой пользователь должен угадать слово, предлагая буквы. Программа должна выбрать случайное слово, а затем разрешить пользователю угадывать буквы. После каждого угадывания программа должна сообщать пользователю, есть ли в слове буква или нет.\n",
        "\n",
        "**Этап 1**\n",
        "Создать саму игру (игра должна иметь привлекательный интерфейс, соотвесвующий классической висилице)\n",
        "\n",
        "**Этап 2:**\n",
        "Ввести подсчет количества очков и ограничения на попытки\n",
        "\n",
        "**Этап 3:** Добавить возможность сразу угадать слово"
      ],
      "metadata": {
        "id": "OHqj3HJuLJgY"
      }
    },
    {
      "cell_type": "code",
      "source": [
        "import random as r\n",
        "import time as t\n",
        "\n",
        "words = ['компьютер', 'лимонад', 'портфель', 'сигма', 'очки', 'наушники']\n",
        "\n",
        "\n",
        "def oracle(char, secret):\n",
        "    for x in secret:\n",
        "        if x == char:\n",
        "            return True\n",
        "    return False\n",
        "\n",
        "\n",
        "def guessed_char(char, secret, code):\n",
        "    for x in range(len(secret)):\n",
        "        if secret[x] == char:\n",
        "            code = code[:x] + secret[x] + code[x + 1:]\n",
        "    return code\n",
        "\n",
        "\n",
        "count = 5\n",
        "\n",
        "answer = ''\n",
        "secret = r.choice(words)\n",
        "string = '-' * len(secret)\n",
        "\n",
        "print('Привет, сыграем в игру? ^_^')\n",
        "print('Введите \"слово\" если хотите дать окончательный ответ')\n",
        "print(secret)\n",
        "code = 'X' * len(secret)\n",
        "\n",
        "while True:\n",
        "\n",
        "    char = input('Введите букву:) ')\n",
        "\n",
        "    if oracle(char, secret):\n",
        "        code = guessed_char(char, secret, code)\n",
        "        print()\n",
        "        print(code)\n",
        "        print(string)\n",
        "        print('Молодец, ты угадал :}')\n",
        "\n",
        "    if not oracle(char, secret):\n",
        "        count -= 1\n",
        "        print()\n",
        "        print('У тебя осталось', count, 'жизней:)')\n",
        "\n",
        "    if count == 0:\n",
        "        print('Игра окончена x_x')\n",
        "        break\n",
        "\n",
        "    if code == secret:\n",
        "        print('Урааа, ты не умер! ;3')\n",
        "        break\n",
        "\n",
        "    if char == 'слово':\n",
        "        count = 0\n",
        "        final = input('Окончалельный ответ: ')\n",
        "        if final == secret:\n",
        "            print('Урааа, ты не умер! ;3')\n",
        "            break\n",
        "        else:\n",
        "            print('Хорошая попытка')\n",
        "            t.sleep(1)\n",
        "            print('но..')\n",
        "            t.sleep(2)\n",
        "            print('ТЫ ПРОИГРАЛ :}')\n",
        "            break"
      ],
      "metadata": {
        "id": "0N2zCYwVLiIw"
      },
      "execution_count": null,
      "outputs": []
    },
    {
      "cell_type": "markdown",
      "source": [
        "# **Дополнительно: Задача 6.**\n"
      ],
      "metadata": {
        "id": "w0x3QFGzKtDD"
      }
    },
    {
      "cell_type": "markdown",
      "source": [
        "\n",
        "**Цифра на определенном месте:**\n",
        "\n",
        "Последовательно записан натуральный ряд чисел.\n",
        "\n",
        "Какая цифра стоит в N позиции\n",
        "\n",
        "\n",
        "Вввод:\n",
        "\n",
        "```\n",
        "Введите номер позиции: 1234567890\n",
        "```\n",
        "\n",
        "Вывод:\n",
        "\n",
        "```\n",
        "8\n",
        "```"
      ],
      "metadata": {
        "id": "QqZArcpHJxVj"
      }
    },
    {
      "cell_type": "code",
      "source": [],
      "metadata": {
        "id": "LwjYwBGcKiJ9"
      },
      "execution_count": null,
      "outputs": []
    }
  ]
}