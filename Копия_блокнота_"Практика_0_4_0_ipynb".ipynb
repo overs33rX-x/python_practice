{
  "nbformat": 4,
  "nbformat_minor": 0,
  "metadata": {
    "colab": {
      "provenance": [],
      "include_colab_link": true
    },
    "kernelspec": {
      "name": "python3",
      "display_name": "Python 3"
    },
    "language_info": {
      "name": "python"
    }
  },
  "cells": [
    {
      "cell_type": "markdown",
      "metadata": {
        "id": "view-in-github",
        "colab_type": "text"
      },
      "source": [
        "<a href=\"https://colab.research.google.com/github/overs33rX-x/python_practice/blob/main/%D0%9A%D0%BE%D0%BF%D0%B8%D1%8F_%D0%B1%D0%BB%D0%BE%D0%BA%D0%BD%D0%BE%D1%82%D0%B0_%22%D0%9F%D1%80%D0%B0%D0%BA%D1%82%D0%B8%D0%BA%D0%B0_0_4_0_ipynb%22.ipynb\" target=\"_parent\"><img src=\"https://colab.research.google.com/assets/colab-badge.svg\" alt=\"Open In Colab\"/></a>"
      ]
    },
    {
      "cell_type": "markdown",
      "source": [
        "Введите ваше ФИО:"
      ],
      "metadata": {
        "id": "k8oVfdwrMXyc"
      }
    },
    {
      "cell_type": "code",
      "execution_count": null,
      "metadata": {
        "id": "5mcBLsKMI1-5"
      },
      "outputs": [],
      "source": []
    },
    {
      "cell_type": "markdown",
      "source": [
        "***Дисклеймер***\n",
        "\n",
        "В данной практике запрещено использования функций:\n",
        "\n",
        "\n",
        "*   sum()\n",
        "*   min()\n",
        "*   max()\n",
        "*   average()\n",
        "*   reversed()\n",
        "*   sorted()\n",
        "*   готовые функции или библиотеки\n"
      ],
      "metadata": {
        "id": "8HbYUbm3Jw3o"
      }
    },
    {
      "cell_type": "markdown",
      "source": [
        "\n",
        "**Задача 1:**\n",
        "\n",
        "\n",
        "\n",
        "Интернет-магазин предлагает следующие условия скидок:\n",
        "\n",
        "*   Для заказов больше 1000 единиц, клиент получает скидку 5%. Если клиент использует промокод SUPERDISCOUNT, он получает скидку 10% (вместо 5%).\n",
        "*  Для заказов более 5000 единиц, клиент получает скидку 15%, а использование промокода SUPERDISCOUNT увеличивает скидку до 20% (вместо 15%).\n",
        "\n",
        "Этап 1:\n",
        "Ввод:\n",
        "```\n",
        "Введите стоимость единицы товара: 5\n",
        "Введите количество товара: 1001\n",
        "Введите промокод: GiVEMEDISCONT\n",
        "```\n",
        "\n",
        "Вывод:\n",
        "\n",
        "```\n",
        "Ваша скидка: 5%\n",
        "Итоговая сумма: 4754.75\n",
        "```\n",
        "Этап 2:\n",
        "\n",
        "Оформите ваш код в виде функции"
      ],
      "metadata": {
        "id": "HmX0c6YPJSQr"
      }
    },
    {
      "cell_type": "code",
      "source": [
        "def cost(count, promo):\n",
        "    sk = 0\n",
        "    if count > 1000:\n",
        "\n",
        "        if promo == 'SUPERDISCOUNT':\n",
        "            sk = 10\n",
        "        else:\n",
        "            sk = 5\n",
        "\n",
        "    if count > 5000:\n",
        "\n",
        "        if promo == 'SUPERDISCOUNT':\n",
        "            sk = 20\n",
        "        else:\n",
        "            sk = 15\n",
        "\n",
        "    return sk\n",
        "\n",
        "\n",
        "cs = int(input('Введите стоимость единицы товара: '))\n",
        "count = int(input('Введите кол-во товара: '))\n",
        "print()\n",
        "print('если промокода нет, введите \"нет\"')\n",
        "promo = input('Введите промокод: ')\n",
        "\n",
        "\n",
        "sk = cost(count, promo)\n",
        "sm = (cs * count) - (cs * count * (sk/100))\n",
        "print('Ваша скидка', sk, '%')\n",
        "print('Итоговая сумма: ', sm)\n"
      ],
      "metadata": {
        "id": "OAIMIpklMN5D",
        "colab": {
          "base_uri": "https://localhost:8080/",
          "height": 371
        },
        "outputId": "1be543d7-cf5f-45c6-e104-a239f317e72d"
      },
      "execution_count": null,
      "outputs": [
        {
          "output_type": "error",
          "ename": "KeyboardInterrupt",
          "evalue": "Interrupted by user",
          "traceback": [
            "\u001b[0;31m---------------------------------------------------------------------------\u001b[0m",
            "\u001b[0;31mKeyboardInterrupt\u001b[0m                         Traceback (most recent call last)",
            "\u001b[0;32m<ipython-input-1-18bfa5c13a62>\u001b[0m in \u001b[0;36m<cell line: 20>\u001b[0;34m()\u001b[0m\n\u001b[1;32m     18\u001b[0m \u001b[0;34m\u001b[0m\u001b[0m\n\u001b[1;32m     19\u001b[0m \u001b[0;34m\u001b[0m\u001b[0m\n\u001b[0;32m---> 20\u001b[0;31m \u001b[0mcs\u001b[0m \u001b[0;34m=\u001b[0m \u001b[0mint\u001b[0m\u001b[0;34m(\u001b[0m\u001b[0minput\u001b[0m\u001b[0;34m(\u001b[0m\u001b[0;34m'Введите стоимость единицы товара: '\u001b[0m\u001b[0;34m)\u001b[0m\u001b[0;34m)\u001b[0m\u001b[0;34m\u001b[0m\u001b[0;34m\u001b[0m\u001b[0m\n\u001b[0m\u001b[1;32m     21\u001b[0m \u001b[0mcount\u001b[0m \u001b[0;34m=\u001b[0m \u001b[0mint\u001b[0m\u001b[0;34m(\u001b[0m\u001b[0minput\u001b[0m\u001b[0;34m(\u001b[0m\u001b[0;34m'Введите кол-во товара: '\u001b[0m\u001b[0;34m)\u001b[0m\u001b[0;34m)\u001b[0m\u001b[0;34m\u001b[0m\u001b[0;34m\u001b[0m\u001b[0m\n\u001b[1;32m     22\u001b[0m \u001b[0mprint\u001b[0m\u001b[0;34m(\u001b[0m\u001b[0;34m)\u001b[0m\u001b[0;34m\u001b[0m\u001b[0;34m\u001b[0m\u001b[0m\n",
            "\u001b[0;32m/usr/local/lib/python3.10/dist-packages/ipykernel/kernelbase.py\u001b[0m in \u001b[0;36mraw_input\u001b[0;34m(self, prompt)\u001b[0m\n\u001b[1;32m    849\u001b[0m                 \u001b[0;34m\"raw_input was called, but this frontend does not support input requests.\"\u001b[0m\u001b[0;34m\u001b[0m\u001b[0;34m\u001b[0m\u001b[0m\n\u001b[1;32m    850\u001b[0m             )\n\u001b[0;32m--> 851\u001b[0;31m         return self._input_request(str(prompt),\n\u001b[0m\u001b[1;32m    852\u001b[0m             \u001b[0mself\u001b[0m\u001b[0;34m.\u001b[0m\u001b[0m_parent_ident\u001b[0m\u001b[0;34m,\u001b[0m\u001b[0;34m\u001b[0m\u001b[0;34m\u001b[0m\u001b[0m\n\u001b[1;32m    853\u001b[0m             \u001b[0mself\u001b[0m\u001b[0;34m.\u001b[0m\u001b[0m_parent_header\u001b[0m\u001b[0;34m,\u001b[0m\u001b[0;34m\u001b[0m\u001b[0;34m\u001b[0m\u001b[0m\n",
            "\u001b[0;32m/usr/local/lib/python3.10/dist-packages/ipykernel/kernelbase.py\u001b[0m in \u001b[0;36m_input_request\u001b[0;34m(self, prompt, ident, parent, password)\u001b[0m\n\u001b[1;32m    893\u001b[0m             \u001b[0;32mexcept\u001b[0m \u001b[0mKeyboardInterrupt\u001b[0m\u001b[0;34m:\u001b[0m\u001b[0;34m\u001b[0m\u001b[0;34m\u001b[0m\u001b[0m\n\u001b[1;32m    894\u001b[0m                 \u001b[0;31m# re-raise KeyboardInterrupt, to truncate traceback\u001b[0m\u001b[0;34m\u001b[0m\u001b[0;34m\u001b[0m\u001b[0m\n\u001b[0;32m--> 895\u001b[0;31m                 \u001b[0;32mraise\u001b[0m \u001b[0mKeyboardInterrupt\u001b[0m\u001b[0;34m(\u001b[0m\u001b[0;34m\"Interrupted by user\"\u001b[0m\u001b[0;34m)\u001b[0m \u001b[0;32mfrom\u001b[0m \u001b[0;32mNone\u001b[0m\u001b[0;34m\u001b[0m\u001b[0;34m\u001b[0m\u001b[0m\n\u001b[0m\u001b[1;32m    896\u001b[0m             \u001b[0;32mexcept\u001b[0m \u001b[0mException\u001b[0m \u001b[0;32mas\u001b[0m \u001b[0me\u001b[0m\u001b[0;34m:\u001b[0m\u001b[0;34m\u001b[0m\u001b[0;34m\u001b[0m\u001b[0m\n\u001b[1;32m    897\u001b[0m                 \u001b[0mself\u001b[0m\u001b[0;34m.\u001b[0m\u001b[0mlog\u001b[0m\u001b[0;34m.\u001b[0m\u001b[0mwarning\u001b[0m\u001b[0;34m(\u001b[0m\u001b[0;34m\"Invalid Message:\"\u001b[0m\u001b[0;34m,\u001b[0m \u001b[0mexc_info\u001b[0m\u001b[0;34m=\u001b[0m\u001b[0;32mTrue\u001b[0m\u001b[0;34m)\u001b[0m\u001b[0;34m\u001b[0m\u001b[0;34m\u001b[0m\u001b[0m\n",
            "\u001b[0;31mKeyboardInterrupt\u001b[0m: Interrupted by user"
          ]
        }
      ]
    },
    {
      "cell_type": "markdown",
      "source": [
        "**Задача 2:**\n",
        "\n",
        "Этап 1:\n",
        "Напишите программу способную отфильтровать список и вывести только положительные элементы\n",
        "\n",
        "\n",
        "Ввод:\n",
        "```\n",
        "-1 5 1 2 -3\n",
        "```\n",
        "\n",
        "Вывод:\n",
        "\n",
        "```\n",
        "5 1 2\n",
        "```\n",
        "\n",
        "Этап 2:\n",
        "\n",
        "Оформите ваш код в виде функции"
      ],
      "metadata": {
        "id": "eeRVWpuLNGJ0"
      }
    },
    {
      "cell_type": "code",
      "source": [
        "def srt(lst):\n",
        "    good = []\n",
        "    for char in lst:\n",
        "        if char > 0:\n",
        "            good.append(char)\n",
        "\n",
        "    return good\n",
        "\n",
        "\n",
        "lst = []\n",
        "print('Введите 0 если хотите увидеть конечный результат')\n",
        "while True:\n",
        "    item = int(input('Введите число: '))\n",
        "    lst.append(item)\n",
        "\n",
        "\n",
        "    if item == 0:\n",
        "        print(srt(lst))\n",
        "        break"
      ],
      "metadata": {
        "id": "Xbi6bL0WOE9N",
        "colab": {
          "base_uri": "https://localhost:8080/"
        },
        "outputId": "f483c5ff-4474-4b5a-8491-b4c0cf47e64e"
      },
      "execution_count": null,
      "outputs": [
        {
          "output_type": "stream",
          "name": "stdout",
          "text": [
            "Введите 0 если хотите увидеть конечный результат\n",
            "Введите число: 10\n",
            "Введите число: -4\n",
            "Введите число: 5\n",
            "Введите число: 2\n",
            "Введите число: -19\n",
            "Введите число: 9\n",
            "Введите число: -10\n",
            "Введите число: 0\n",
            "[10, 5, 2, 9]\n"
          ]
        }
      ]
    },
    {
      "cell_type": "markdown",
      "source": [
        "**Задача 3:**\n",
        "\n",
        "Этап 1:\n",
        "Напишите программу реализующую Алгоритм Евклида\n",
        "\n",
        "\n",
        "> Алгоритм Евклида – это алгоритм нахождения наибольшего общего делителя (НОД) пары целых чисел.\n",
        "\n",
        "\n",
        "\n",
        "Ввод:\n",
        "```\n",
        "30 18\n",
        "```\n",
        "\n",
        "Вывод:\n",
        "\n",
        "```\n",
        "6\n",
        "```\n",
        "\n",
        "Этап 2:\n",
        "Оформите ваш код в виде функции\n"
      ],
      "metadata": {
        "id": "lV-w6G-POa6F"
      }
    },
    {
      "cell_type": "code",
      "source": [
        "def dels(x, y):\n",
        "    lst = []\n",
        "\n",
        "    for i in range(2, min(x, y) // 2 + 1):\n",
        "        if x % i == 0 and y % i == 0:\n",
        "            lst.append(i)\n",
        "\n",
        "    if lst:\n",
        "      return max(lst)\n",
        "    else:\n",
        "      return False\n",
        "\n",
        "x = int(input('Первое число: '))\n",
        "y = int(input('Второе число: '))\n",
        "\n",
        "if dels(x, y):\n",
        "    print('Итог:', dels(x, y))\n",
        "else:\n",
        "  print('Общего нет')"
      ],
      "metadata": {
        "id": "X2n6fnd91yt7",
        "colab": {
          "base_uri": "https://localhost:8080/"
        },
        "outputId": "e8919e42-b1b3-46d1-d7d5-1c18fe1391d1"
      },
      "execution_count": null,
      "outputs": [
        {
          "output_type": "stream",
          "name": "stdout",
          "text": [
            "Первое число: 2\n",
            "Второе число: 3\n",
            "Общего нет\n"
          ]
        }
      ]
    },
    {
      "cell_type": "code",
      "source": [
        "\n"
      ],
      "metadata": {
        "id": "43Dl5tIpOZsu"
      },
      "execution_count": null,
      "outputs": []
    },
    {
      "cell_type": "markdown",
      "source": [
        "**Задача 4:**\n",
        "\n",
        "Этап 1:\n",
        "Напишите функцию программу, которая принимает строку и возвращает список слов и количество их упомнинаний в предложении\n",
        "\n",
        "Этап 2:\n",
        "Оформите ваш код в виде функции\n",
        "\n",
        "Ввод:\n",
        "```\n",
        "apple banana apple\n",
        "```\n",
        "\n",
        "Вывод:\n",
        "\n",
        "```\n",
        "apple: 2,\n",
        "banana: 1\n",
        "```"
      ],
      "metadata": {
        "id": "WIfPFxpsO0zL"
      }
    },
    {
      "cell_type": "code",
      "source": [
        "def words(lst):\n",
        "    dct = {}\n",
        "    last = []\n",
        "    count = 1\n",
        "\n",
        "    for char in lst:\n",
        "        if char in last:\n",
        "            count += 1\n",
        "        if char not in last:\n",
        "            last.append(char)\n",
        "        dct[char] = count\n",
        "        count = 1\n",
        "\n",
        "    return dct\n",
        "\n",
        "lst = ['apple', 'banana', 'apple']\n",
        "print(words(lst))"
      ],
      "metadata": {
        "id": "DgsmFeW5Po_x"
      },
      "execution_count": null,
      "outputs": []
    },
    {
      "cell_type": "markdown",
      "source": [
        "**Задача 5:**\n",
        "\n",
        "Этап 1:\n",
        "Детектор анаграмм Напишите программу на Python, которая принимает в качестве входных данных две строки и проверяет, являются ли они анаграммами друг друга\n",
        "\n",
        "Этап 2:\n",
        "Оформите ваш код в виде функции\n",
        "\n",
        "Ввод:\n",
        "```\n",
        "listen, silent\n",
        "```\n",
        "\n",
        "Вывод:\n",
        "\n",
        "```\n",
        "True\n",
        "```"
      ],
      "metadata": {
        "id": "5BmIJLUZP9I-"
      }
    },
    {
      "cell_type": "code",
      "source": [
        "def words(lst):\n",
        "    dct = {}\n",
        "    last = []\n",
        "    count = 1\n",
        "\n",
        "    for char in lst:\n",
        "        if char in last:\n",
        "            count += 1\n",
        "        if char not in last:\n",
        "            last.append(char)\n",
        "        dct[char] = count\n",
        "        count = 1\n",
        "\n",
        "    return dct\n",
        "\n",
        "\n",
        "def annag(word1, word2):\n",
        "    c1 = 0\n",
        "    c2 = 0\n",
        "\n",
        "    for x in word1:\n",
        "        c1 += 1\n",
        "    for y in word2:\n",
        "        c2 += 1\n",
        "\n",
        "    if c1 != c2:\n",
        "        return False\n",
        "\n",
        "    return True\n",
        "\n",
        "\n",
        "w1 = input(':')\n",
        "w2 = input(':')\n",
        "lst1 = []\n",
        "lst2 = []\n",
        "\n",
        "lst = [w1, w2]\n",
        "\n",
        "for nw1 in lst[0]:\n",
        "    lst1.append(nw1)\n",
        "for nw2 in lst[1]:\n",
        "    lst2.append(nw2)\n",
        "\n",
        "if words(lst1) == words(lst2):\n",
        "    if annag(lst1, lst2):\n",
        "        print('yes')\n",
        "    else:\n",
        "        print('no')"
      ],
      "metadata": {
        "id": "7LNW8DuHQJwH"
      },
      "execution_count": null,
      "outputs": []
    },
    {
      "cell_type": "markdown",
      "source": [
        "**Задача 6:**\n",
        "\n",
        "Шифр ​​Цезаря\n",
        "\n",
        "Напишите программу на Python, которая реализует шифр Цезаря, простой метод шифрования, который заменяет каждую букву буквой на фиксированное количество позиций вниз по алфавиту. Программа должна запрашивать у пользователя сообщение и значение сдвига, а затем шифровать и расшифровывать сообщение.\n",
        "\n",
        "Этап 1:\n",
        "\n",
        "Напишите код для реализации данной задачи\n",
        "\n",
        "Этап 2:\n",
        "\n",
        "Оформите код в виде нескольких функций:\n",
        "\n",
        "* Зашифровывает сообщение\n",
        "* Расшифровывает сообщение"
      ],
      "metadata": {
        "id": "-SIWYSq2QKBh"
      }
    },
    {
      "cell_type": "code",
      "source": [
        "def zezar(alp, word, code):\n",
        "    st = ''\n",
        "    for x in word:\n",
        "        position = alp.index(x)\n",
        "        st += alp[position + code]\n",
        "\n",
        "    return st\n",
        "\n",
        "\n",
        "def rev_zezar(alp, word, code):\n",
        "    st = ''\n",
        "    for x in word:\n",
        "        position = alp.index(x)\n",
        "        st += alp[position - code]\n",
        "\n",
        "    return st\n",
        "\n",
        "\n",
        "alp = ['a', 'b', 'c', 'd', 'e', 'f', 'g', 'h', \\\n",
        "       'i', 'j', 'k', 'l', 'm', 'n', 'o', 'p', 'q',\\\n",
        "          'r', 's', 't', 'u', 'v', 'w', 'x', 'y', 'z']\n",
        "w = ''\n",
        "print()\n",
        "code = int(input('Введите значение сдвига: '))\n",
        "\n",
        "print('0-шифр    1-дешифр')\n",
        "main = int(input('Что вы хотите? '))\n",
        "\n",
        "\n",
        "if main == 0:\n",
        "\n",
        "    word = input('Введите слово: ')\n",
        "    w += word\n",
        "    print(zezar(alp, w, code))\n",
        "\n",
        "\n",
        "if main == 1:\n",
        "    word = input('Введите слово: ')\n",
        "    print(rev_zezar(alp, word, code))"
      ],
      "metadata": {
        "id": "anThYirsQe6N"
      },
      "execution_count": null,
      "outputs": []
    },
    {
      "cell_type": "markdown",
      "source": [
        "**Задача 7**\n",
        "\n",
        "Задача: «Банковская система»\n",
        "\n",
        "Создайте программу Python, которая имитирует базовую банковскую систему. Система должна иметь следующие функции:\n",
        "\n",
        "Требования\n",
        "*   Система должна позволять клиентам создавать счета и хранить их балансы.\n",
        "*   Система должна позволять клиентам вносить и снимать деньги со своих счетов.\n",
        "*   Система должна позволять клиентам проверять свой текущий баланс.\n",
        "*   Система должна позволять клиентам переводить деньги между счетами.\n",
        "*   Система должна отслеживать транзакции (депозиты, снятия и переводы) и иметь возможность печатать детали транзакций.\n",
        "\n",
        "\n",
        "Задачи\n",
        "1. Реализуйте банковскую систему, используя только базовые конструкции Python, такие как def, lists, if, elif и else, без классов или словарей.\n",
        "Определите функции для создания счетов, внесения и снятия денег, получения балансов счетов, перевода денег между счетами, а также создания и печати транзакций.\n",
        "2. Напишите основную функцию, которая демонстрирует использование банковской системы путем создания счетов, внесения и снятия денег и перевода денег между счетами.\n",
        "3. Бонусное задание\n",
        "Реализуйте способ хранения и печати истории транзакций для каждого счета.\n",
        "\n",
        "Ограничения\n",
        "Не используйте классы или словари.\n",
        "Используйте только базовые конструкции Python, такие как def, lists, if, elif и else.\n"
      ],
      "metadata": {
        "id": "avFZRRXrQz9O"
      }
    },
    {
      "cell_type": "code",
      "source": [
        "#ps len() не использовался для написания функционала, только для визуальной составляющей :)\n",
        "def new_card(cards):\n",
        "\n",
        "    card = 0\n",
        "    cards.append(card)\n",
        "    return cards\n",
        "\n",
        "\n",
        "def put_money(mon_sum, card):\n",
        "    card += mon_sum\n",
        "    return card\n",
        "\n",
        "\n",
        "def card_balance(card, mon_sum):\n",
        "    if card - mon_sum < 0:\n",
        "        return False\n",
        "    return True\n",
        "\n",
        "\n",
        "def send_money(mon_sum, card):\n",
        "    bal = card - mon_sum\n",
        "    if card_balance(card, mon_sum):\n",
        "        return bal\n",
        "    else:\n",
        "        return card\n",
        "\n",
        "\n",
        "def trade_1card(card1, mon_sum):\n",
        "    card1 -= mon_sum\n",
        "    return card1\n",
        "\n",
        "\n",
        "def trade_2card(card2, mon_sum):\n",
        "    card2 += mon_sum\n",
        "    return card2\n",
        "\n",
        "\n",
        "cards = []\n",
        "print('СПИСОК КОМАНД:')\n",
        "print('добавить, открыть, создать - Открыть новый счет')\n",
        "print('перевести - Перевести деньги между счетами')\n",
        "print('снять - Снять деньги со счета')\n",
        "print('пополнить, внести - Внести деньги на счет')\n",
        "print('количество счетов/карт - Ваше количество счетов')\n",
        "print('завершить, стоп - Прекратить работу')\n",
        "print('баланс - Баланс ваших счетов')\n",
        "print('^' * len('добавить, открыть, создать - Открыть новый счет'))\n",
        "\n",
        "\n",
        "count_cards = 0\n",
        "while True:\n",
        "\n",
        "    print()\n",
        "    main_answ = input('Что вы хотите сделать? ')        #начинаем работу с онлайн банком\n",
        "    print()\n",
        "\n",
        "    if ('добавить' in main_answ or 'открыть' in main_answ or 'создать' in main_answ):\n",
        "        cards = new_card(cards)\n",
        "        count_cards += 1                        #есть счетчик кол-ва карт\n",
        "        print('_' * len('Карта добавлена!'))\n",
        "        print('Карта добавлена!')               #добавляем новую карту\n",
        "\n",
        "\n",
        "\n",
        "    elif (('пополнить' in main_answ or 'внести' in main_answ)) and cards:      #пополняем счет карты\n",
        "        if count_cards > 0:\n",
        "            choose_card = int(input('Выберите номер своей карты: '))\n",
        "            if count_cards < choose_card:\n",
        "                print('_' * len('У вас нет карты с таким номером!'))\n",
        "                print('У вас нет карты с таким номером!')\n",
        "\n",
        "            else:\n",
        "                sm = int(input('Сколько вы хотите внести? '))\n",
        "                cards[choose_card - 1] = put_money(sm, cards[choose_card - 1])\n",
        "                #print(cards)\n",
        "                print('Баланс пополнен!')\n",
        "                print('Текущий баланс выбранной карты: ', cards[choose_card - 1])\n",
        "                print()\n",
        "                print('Отчет о транзакции:')\n",
        "                print(f'Карта <{choose_card}> была пополнена на {sm} евро')\n",
        "\n",
        "        else:\n",
        "            print('У вас нет счетов!')\n",
        "\n",
        "\n",
        "\n",
        "    elif 'снять' in main_answ:\n",
        "\n",
        "        if count_cards > 0:\n",
        "            choose_card = int(input('Выберите номер своей карты: '))\n",
        "            sm = int(input('Сколько вы хотите снять? '))\n",
        "\n",
        "            if card_balance(cards[choose_card - 1], sm):\n",
        "                cards[choose_card - 1] = send_money(sm, cards[choose_card - 1])\n",
        "                print('Деньги сняты!')\n",
        "                print('Текущий баланс выбранной карты: ', cards[choose_card - 1])\n",
        "                print()\n",
        "                print('Отчет о транзакции:')\n",
        "                print(f'С карты <{choose_card}> было снято {sm} евро')\n",
        "            else:\n",
        "                print('_' * len('Не хватает средств, рекомендуем пополнить счет!'))\n",
        "                print('Не хватает средств, рекомендуем пополнить счет!')        #снимаем, но не переводим кэш!!!\n",
        "                print('Ваши счета: ', cards)\n",
        "        else:\n",
        "            print('У вас нет счетов!')\n",
        "\n",
        "\n",
        "    elif ('пополнить' in main_answ and 'баланс' in main_answ) and not cards:      #счет еще не открыт\n",
        "        print('_' * len('у вас еще не открыт счет!!!'))\n",
        "        print('у вас еще не открыт счет!!!')\n",
        "\n",
        "\n",
        "\n",
        "    elif 'перевести' in main_answ or 'перевод' in main_answ:        #переводим со счета на счет\n",
        "        if count_cards > 0:\n",
        "            if count_cards < 2:\n",
        "                print('_' * len('У вас всего одна карта!'))\n",
        "                print('У вас всего одна карта!')\n",
        "\n",
        "            else:\n",
        "                print('Ваши счета: ', cards)\n",
        "                card1 = int(input('С какой карты вы хотите перести? '))\n",
        "                card2 = int(input('На какую карту вы хотите перевести? '))\n",
        "                mon_sum = int(input('Сколько вы хотите перевести? '))\n",
        "\n",
        "                if count_cards < card1 or count_cards < card2:\n",
        "                    print('У вас нет карты с таким номером!')\n",
        "\n",
        "                else:\n",
        "                    if  not card_balance(cards[card1 - 1], mon_sum):\n",
        "                        print('_' * len('На карте не хватает средств!'))\n",
        "                        print('На карте не хватает средств!')\n",
        "                    else:\n",
        "                        cards[card1 - 1] = trade_1card(cards[card1 - 1], mon_sum)\n",
        "                        cards[card2 - 1] = trade_2card(cards[card2 - 1], mon_sum)\n",
        "                        print(cards)\n",
        "                        print()\n",
        "                        print('Отчет о транзакции:')\n",
        "                        print(f'C карты <{card1}> было переведено {mon_sum} евро на карту <{card2}>')\n",
        "        else:\n",
        "            print('У вас нет счетов!')\n",
        "\n",
        "\n",
        "\n",
        "    elif 'количество' in main_answ and ('счетов' in main_answ or 'карт' in main_answ) or ('сколько' in main_answ\\\n",
        "        and ('счетов' in main_answ or 'карт' in main_answ)) or 'баланс' in main_answ:\n",
        "        print('В данный момент у вас', count_cards, 'счетов')       #кол-во счетов\n",
        "        print('_' * len('Ваши счета: '))\n",
        "        print('Ваши счета: ', cards)\n",
        "\n",
        "\n",
        "\n",
        "    elif 'завершить' in main_answ or 'стоп' in main_answ or 'прекратить' in main_answ:\n",
        "        print('_' * len('Сеанс завершен!'))\n",
        "        print('Сеанс завершен, до свидания!')                    #завершаем сеанс\n",
        "        break\n",
        "\n",
        "\n"
      ],
      "metadata": {
        "id": "dWEW10zIRwjs"
      },
      "execution_count": null,
      "outputs": []
    }
  ]
}