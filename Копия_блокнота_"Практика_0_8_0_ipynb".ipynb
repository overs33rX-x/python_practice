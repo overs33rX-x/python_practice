{
  "nbformat": 4,
  "nbformat_minor": 0,
  "metadata": {
    "colab": {
      "provenance": [],
      "collapsed_sections": [
        "ra45s33wUt-C",
        "eecUb-akU1ji",
        "QGrsZrv5U1s8"
      ],
      "include_colab_link": true
    },
    "kernelspec": {
      "name": "python3",
      "display_name": "Python 3"
    },
    "language_info": {
      "name": "python"
    }
  },
  "cells": [
    {
      "cell_type": "markdown",
      "metadata": {
        "id": "view-in-github",
        "colab_type": "text"
      },
      "source": [
        "<a href=\"https://colab.research.google.com/github/overs33rX-x/python_practice/blob/main/%D0%9A%D0%BE%D0%BF%D0%B8%D1%8F_%D0%B1%D0%BB%D0%BE%D0%BA%D0%BD%D0%BE%D1%82%D0%B0_%22%D0%9F%D1%80%D0%B0%D0%BA%D1%82%D0%B8%D0%BA%D0%B0_0_8_0_ipynb%22.ipynb\" target=\"_parent\"><img src=\"https://colab.research.google.com/assets/colab-badge.svg\" alt=\"Open In Colab\"/></a>"
      ]
    },
    {
      "cell_type": "markdown",
      "source": [
        "# Задание 1"
      ],
      "metadata": {
        "id": "ra45s33wUt-C"
      }
    },
    {
      "cell_type": "markdown",
      "source": [
        "Задача: Создать чат бота для получения информации об исследованиях космоса\n",
        "\n",
        "Описание: Создайте комплексное приложение командной строки, которое будет использоваться в качестве панели управления исследованиями космоса. Данное приложение будет обращаться к https://api.nasa.gov/ для предоставления пользователям набора информации о космосе, включая:\n",
        "\n",
        "- Астрономическая картинка дня (APOD): Отображение APOD с пояснениями к нему.\n",
        "- Фотографии с марсохода: позволяет пользователям выбирать и фильтровать фотографии с марсохода по дате и типу камеры.\n",
        "- Объекты, сближающиеся с Землей (ОСЗ): Поиск и отображение информации об объекте, сближающихся с Землей, на определенную дату, включая их размеры и потенциальную опасность.\n",
        "- Данные о космической погоде: Отображают последние данные о космической погоде, включая солнечные вспышки и геомагнитные бури.\n",
        "Приложение должно позволять пользователям ориентироваться в этих функциях, корректно обрабатывать ошибки и обеспечивать удобство работы.\n",
        "\n",
        "Требования:\n",
        "- Пользовательский ввод: Приложение должно предложить пользователю ввести данные, чтобы выбрать, какую функцию он хочет изучить.\n",
        "- Проверка данных: Убедитесь, что пользовательские данные (например, даты) проверены.\n",
        "- Обработка ошибок: Корректно обрабатывайте ошибки API и неверные ответы.\n",
        "- Представление данных: Представляйте данные в четкой и организованной форме.\n",
        "- Опция выхода: позволяет пользователям выходить из приложения в любое время."
      ],
      "metadata": {
        "id": "G56D5mNCUwp5"
      }
    },
    {
      "cell_type": "code",
      "execution_count": null,
      "metadata": {
        "id": "wGeJM9n4UqUD",
        "colab": {
          "base_uri": "https://localhost:8080/",
          "height": 518
        },
        "outputId": "a41a1eed-d24d-42f6-9914-c835ec67dbb2"
      },
      "outputs": [
        {
          "output_type": "stream",
          "name": "stdout",
          "text": [
            "СПИСОК КОМАНД\n",
            "Астрономическая картинка дня\n",
            "Фотографии с марсохода\n",
            "NAVCAM, MARDI, CHEMCAM, FHAZ, MAST, RHAZ, MAHLI\n",
            "Объекты, сближающиеся с Землей\n",
            "Данные о космической погоде\n",
            "stop\n",
            "\n"
          ]
        },
        {
          "output_type": "error",
          "ename": "KeyboardInterrupt",
          "evalue": "Interrupted by user",
          "traceback": [
            "\u001b[0;31m---------------------------------------------------------------------------\u001b[0m",
            "\u001b[0;31mKeyboardInterrupt\u001b[0m                         Traceback (most recent call last)",
            "\u001b[0;32m<ipython-input-2-aca24068840a>\u001b[0m in \u001b[0;36m<cell line: 61>\u001b[0;34m()\u001b[0m\n\u001b[1;32m     60\u001b[0m \u001b[0mprint\u001b[0m\u001b[0;34m(\u001b[0m\u001b[0;34m)\u001b[0m\u001b[0;34m\u001b[0m\u001b[0;34m\u001b[0m\u001b[0m\n\u001b[1;32m     61\u001b[0m \u001b[0;32mwhile\u001b[0m \u001b[0;32mTrue\u001b[0m\u001b[0;34m:\u001b[0m\u001b[0;34m\u001b[0m\u001b[0;34m\u001b[0m\u001b[0m\n\u001b[0;32m---> 62\u001b[0;31m   \u001b[0manswer\u001b[0m \u001b[0;34m=\u001b[0m \u001b[0minput\u001b[0m\u001b[0;34m(\u001b[0m\u001b[0;34m\"Что вы хотите посмотреть? \"\u001b[0m\u001b[0;34m)\u001b[0m\u001b[0;34m\u001b[0m\u001b[0;34m\u001b[0m\u001b[0m\n\u001b[0m\u001b[1;32m     63\u001b[0m \u001b[0;34m\u001b[0m\u001b[0m\n\u001b[1;32m     64\u001b[0m   \u001b[0;32mif\u001b[0m \u001b[0manswer\u001b[0m \u001b[0;34m==\u001b[0m \u001b[0;34m'Астрономическая картинка дня'\u001b[0m\u001b[0;34m:\u001b[0m\u001b[0;34m\u001b[0m\u001b[0;34m\u001b[0m\u001b[0m\n",
            "\u001b[0;32m/usr/local/lib/python3.10/dist-packages/ipykernel/kernelbase.py\u001b[0m in \u001b[0;36mraw_input\u001b[0;34m(self, prompt)\u001b[0m\n\u001b[1;32m    849\u001b[0m                 \u001b[0;34m\"raw_input was called, but this frontend does not support input requests.\"\u001b[0m\u001b[0;34m\u001b[0m\u001b[0;34m\u001b[0m\u001b[0m\n\u001b[1;32m    850\u001b[0m             )\n\u001b[0;32m--> 851\u001b[0;31m         return self._input_request(str(prompt),\n\u001b[0m\u001b[1;32m    852\u001b[0m             \u001b[0mself\u001b[0m\u001b[0;34m.\u001b[0m\u001b[0m_parent_ident\u001b[0m\u001b[0;34m,\u001b[0m\u001b[0;34m\u001b[0m\u001b[0;34m\u001b[0m\u001b[0m\n\u001b[1;32m    853\u001b[0m             \u001b[0mself\u001b[0m\u001b[0;34m.\u001b[0m\u001b[0m_parent_header\u001b[0m\u001b[0;34m,\u001b[0m\u001b[0;34m\u001b[0m\u001b[0;34m\u001b[0m\u001b[0m\n",
            "\u001b[0;32m/usr/local/lib/python3.10/dist-packages/ipykernel/kernelbase.py\u001b[0m in \u001b[0;36m_input_request\u001b[0;34m(self, prompt, ident, parent, password)\u001b[0m\n\u001b[1;32m    893\u001b[0m             \u001b[0;32mexcept\u001b[0m \u001b[0mKeyboardInterrupt\u001b[0m\u001b[0;34m:\u001b[0m\u001b[0;34m\u001b[0m\u001b[0;34m\u001b[0m\u001b[0m\n\u001b[1;32m    894\u001b[0m                 \u001b[0;31m# re-raise KeyboardInterrupt, to truncate traceback\u001b[0m\u001b[0;34m\u001b[0m\u001b[0;34m\u001b[0m\u001b[0m\n\u001b[0;32m--> 895\u001b[0;31m                 \u001b[0;32mraise\u001b[0m \u001b[0mKeyboardInterrupt\u001b[0m\u001b[0;34m(\u001b[0m\u001b[0;34m\"Interrupted by user\"\u001b[0m\u001b[0;34m)\u001b[0m \u001b[0;32mfrom\u001b[0m \u001b[0;32mNone\u001b[0m\u001b[0;34m\u001b[0m\u001b[0;34m\u001b[0m\u001b[0m\n\u001b[0m\u001b[1;32m    896\u001b[0m             \u001b[0;32mexcept\u001b[0m \u001b[0mException\u001b[0m \u001b[0;32mas\u001b[0m \u001b[0me\u001b[0m\u001b[0;34m:\u001b[0m\u001b[0;34m\u001b[0m\u001b[0;34m\u001b[0m\u001b[0m\n\u001b[1;32m    897\u001b[0m                 \u001b[0mself\u001b[0m\u001b[0;34m.\u001b[0m\u001b[0mlog\u001b[0m\u001b[0;34m.\u001b[0m\u001b[0mwarning\u001b[0m\u001b[0;34m(\u001b[0m\u001b[0;34m\"Invalid Message:\"\u001b[0m\u001b[0;34m,\u001b[0m \u001b[0mexc_info\u001b[0m\u001b[0;34m=\u001b[0m\u001b[0;32mTrue\u001b[0m\u001b[0;34m)\u001b[0m\u001b[0;34m\u001b[0m\u001b[0;34m\u001b[0m\u001b[0m\n",
            "\u001b[0;31mKeyboardInterrupt\u001b[0m: Interrupted by user"
          ]
        }
      ],
      "source": [
        "import requests as r\n",
        "\n",
        "\n",
        "def APOD(key):\n",
        "  url = f\"https://api.nasa.gov/planetary/apod?api_key={key}\"\n",
        "\n",
        "  response = r.get(url)\n",
        "\n",
        "  response = response.json()\n",
        "  print(f'Cсылка на картинку: {response[\"url\"]}')\n",
        "  print(f'Название картинки: {response[\"title\"]}')\n",
        "  print(f'Описание картинки: {response[\"explanation\"]}')\n",
        "\n",
        "\n",
        "def MARS(datе, camera, key):\n",
        "  url = f\"https://api.nasa.gov/mars-photos/api/v1/rovers/curiosity/photos\"\n",
        "\n",
        "  val = {'earth_date': datе, 'camera': camera, 'api_key': key}\n",
        "  response = r.get(url, val)\n",
        "\n",
        "  datе = response.json()\n",
        "  if datе['photos']:\n",
        "      for photo in datе['photos']:\n",
        "          print(f\"Ссылка на фото: {photo['img_src']}\")\n",
        "  else:\n",
        "      print(\"Таких фотографий нет\")\n",
        "\n",
        "\n",
        "def ss_weather(key):\n",
        "  url = f\"https://api.nasa.gov/DONKI/notifications?api_key={key}\"\n",
        "  response = r.get(url)\n",
        "\n",
        "  events = response.json()\n",
        "\n",
        "  print(\"Погода в солнечной системе:\")\n",
        "  for event in events:\n",
        "      print(f\"Событие: {event['messageType']}, \\nДата: {event['messageIssueTime']}, \\nДетали события: {event['messageBody']}\")\n",
        "\n",
        "\n",
        "def OSZ(date, key):\n",
        "  url = f\"https://api.nasa.gov/neo/rest/v1/feed\"\n",
        "  val = {'start_date': date, 'end_date': date, 'api_key': key}\n",
        "  response = r.get(url, val)\n",
        "\n",
        "  data = response.json()\n",
        "  obj = data['near_earth_objects'].get(date)\n",
        "  print(f\"Объекты, сближающиеся с Землей {date}: \")\n",
        "  for i in obj:\n",
        "      print(f\"Название: {i['name']}, Диаметр: {i['estimated_diameter']['kilometers']['estimated_diameter_max']}, Опасность для Земли: {i['is_potentially_hazardous_asteroid']}\")\n",
        "\n",
        "\n",
        "key = 'IEuTrPgLBiecR2jBW3TNhlpfsHSqNzDF3R4fnfA9'\n",
        "\n",
        "print(\"СПИСОК КОМАНД\")\n",
        "print(\"Астрономическая картинка дня\")\n",
        "print(\"Фотографии с марсохода\\nNAVCAM, MARDI, CHEMCAM, FHAZ, MAST, RHAZ, MAHLI\")\n",
        "print(\"Объекты, сближающиеся с Землей\")\n",
        "print(\"Данные о космической погоде\")\n",
        "print(\"stop\")\n",
        "print()\n",
        "while True:\n",
        "  answer = input(\"Что вы хотите посмотреть? \")\n",
        "\n",
        "  if answer == 'Астрономическая картинка дня':\n",
        "    APOD(key)\n",
        "  elif answer == 'Фотографии с марсохода':\n",
        "    date = input(\"Дата (год-месяц-день): \")\n",
        "    camera = input(\"Имя камеры: \")\n",
        "    MARS(date, camera, key)\n",
        "  elif answer == 'Объекты, сближающиеся с Землей':\n",
        "    date = input(\"Дата (год-месяц-день): \")\n",
        "    OSZ(date, key)\n",
        "  elif answer == 'Данные о космической погоде':\n",
        "    ss_weather(key)\n",
        "  elif answer == 'stop':\n",
        "    print('До свидания')\n",
        "    break"
      ]
    },
    {
      "cell_type": "markdown",
      "source": [
        "# Задание 2"
      ],
      "metadata": {
        "id": "ia9UtA0cU1Iy"
      }
    },
    {
      "cell_type": "markdown",
      "source": [
        "Описание задачи\n",
        "\n",
        "Цель этой задачи - создать скрипт на Python, который взаимодействует с API Чикагского института искусств (https://api.artic.edu/docs/) для извлечения и отображения произведений искусства. Скрипт должен позволять пользователям просматривать работы по страницам, фильтровать их по имени художника и просматривать подробную информацию о выбранных произведениях искусства. Ниже приведены требования и функциональные возможности, которые необходимо реализовать:\n",
        "\n",
        "Требования:\n",
        "Извлекать произведения искусства:\n",
        "\n",
        "- Создайте функцию, которая извлекает список произведений искусства из API Чикагского института искусств.\n",
        "Функция должна принимать параметр page для разбивки на страницы и возвращать список произведений искусства вместе с информацией о разбивке на страницы.\n",
        "Фильтровать произведения искусства:\n",
        "\n",
        "- Реализуйте функцию, которая фильтрует список произведений искусства на основе имени указанного художника. Функция должна возвращать список работ, которые соответствуют имени художника (без учета регистра).\n",
        "Отображать подробную информацию об оформлении:\n",
        "\n",
        "- Напишите функцию, которая отображает названия работ для пользователя и позволяет ему выбрать одну из них, введя соответствующий номер.\n",
        "После выбора функция должна отображать подробную информацию о выбранном произведении, включая название, исполнителя, дату и носитель.\n",
        "Разбивка на страницы и взаимодействие с пользователем:\n",
        "\n",
        "- Создайте основную функцию, которая управляет выборкой произведений и взаимодействием с пользователем.\n",
        "\n",
        "Разрешите пользователям перемещаться по страницам с произведениями искусства, выполнять фильтрацию по исполнителю или выходить из программы.\n",
        "\n",
        "Если страниц с произведениями искусства несколько, укажите варианты перехода к следующей странице, предыдущей странице, фильтрации по исполнителю или выхода из программы."
      ],
      "metadata": {
        "id": "Ofu_GmqrU1Iy"
      }
    },
    {
      "cell_type": "code",
      "execution_count": null,
      "metadata": {
        "id": "jjUH1GznU1Iy"
      },
      "outputs": [],
      "source": [
        "import requests as r\n",
        "\n",
        "\n",
        "url = \"https://api.artic.edu/api/v1/artworks\"\n",
        "\n",
        "\n",
        "def fetch_artworks(page=1):\n",
        "  val = {\"page\": page}\n",
        "  response = r.get(url, val)\n",
        "  response = response.json()\n",
        "  return response['data'], response['pagination']\n",
        "\n",
        "\n",
        "def filter(work, NOA):\n",
        "  return [art for art in work if NOA in art['artist_title']]\n",
        "\n",
        "\n",
        "def details(work):\n",
        "  print(f\"Название: {work['title']}\")\n",
        "  print(f\"Автор: {work['artist_title']}\")\n",
        "  print(f\"Дата: {work['date_display']}\")\n",
        "  print(f\"Носитель: {work['medium_display']}\")\n",
        "  print(f\"Описание: {work.get('description', 'Нет описания')}\")\n",
        "\n",
        "page = 1\n",
        "while True:\n",
        "  work, pagination = fetch_artworks(page)\n",
        "  if not work:\n",
        "      break\n",
        "\n",
        "  print(f\"Страница {page}/{pagination['total_pages']}\")\n",
        "  for index, artwork in enumerate(work, start=1):\n",
        "      print(f\"{index}. {artwork['title']} ({artwork['artist_title']})\")\n",
        "\n",
        "  print()\n",
        "  print(\"СПИСОК ВОЗМОЖНОСТЕЙ\")\n",
        "  print(\"1-Просмотреть детали произведения\")\n",
        "  print(\"2-Фильтровать по исполнителю\")\n",
        "  print(\"3-Следующая страница\")\n",
        "  print(\"4-Предыдущая страница\")\n",
        "  print(\"5-Выход\")\n",
        "  print()\n",
        "  answer = input(\"Введите номер действия: \")\n",
        "\n",
        "  if answer == '1':\n",
        "      work_index = int(input(\"Введите номер произведения: \"))\n",
        "      if 0 <= (work_index - 1) < len(work):\n",
        "          details(work[work_index])\n",
        "      else:\n",
        "          print(\"Такого номера нет\")\n",
        "\n",
        "  elif answer == '2':\n",
        "      NOA = input(\"Введите имя художника: \")\n",
        "      filter_ = filter(work, NOA)\n",
        "      if filter_:\n",
        "          for index, artwork in enumerate(filter_, start=1):\n",
        "              print(f\"{index}. {artwork['title']} ({artwork['artist_title']})\")\n",
        "      else:\n",
        "          print(\"Произведения не найдены.\")\n",
        "\n",
        "  elif answer == '3':\n",
        "      if page < pagination['total_pages']:\n",
        "          page += 1\n",
        "      else:\n",
        "          print(\"Это последняя страница.\")\n",
        "\n",
        "  elif answer == '4':\n",
        "      if page > 1:\n",
        "          page -= 1\n",
        "      else:\n",
        "          print(\"Это первая страница.\")\n",
        "\n",
        "  elif answer == '5':\n",
        "      print(\"До свидания\")\n",
        "      break"
      ]
    },
    {
      "cell_type": "markdown",
      "source": [
        "# Задание 3"
      ],
      "metadata": {
        "id": "eecUb-akU1ji"
      }
    },
    {
      "cell_type": "markdown",
      "source": [
        "Задача: Создать программу по управлению портфелем криптовалют\n",
        "\n",
        "Цель: Создать скрипт на Python, который извлекает цены на криптовалюты в режиме реального времени, позволяет пользователям управлять портфелем криптовалют, вычисляет общую стоимость портфеля, отслеживает изменения цен и предоставляет исторические данные о ценах для анализа.\n",
        "\n",
        "Требования:\n",
        "Получение текущих цен на криптовалюты:\n",
        "\n",
        "Используйте https://docs.coingecko.com/ для получения актуальных цен на список криптовалют.\n",
        "\n",
        "Управление портфелем:\n",
        "\n",
        "- Позволяет пользователю создавать портфель криптовалют и управлять им, указывая количество каждой криптовалюты, которой он владеет.\n",
        "- Расчитывает общую стоимость портфеля в указанной фиатной валюте (например, долларах США).\n",
        "\n",
        "Отслеживание изменения цен:\n",
        "\n",
        "- Отображение процентного изменения цены для каждой криптовалюты в портфеле за последние 24 часа.\n",
        "- Выделите все криптовалюты, стоимость которых значительно увеличилась или снизилась.\n",
        "\n",
        "Поиск исторических данных о ценах:\n",
        "\n",
        "- Получение исторических данных о ценах на указанную криптовалюту за последнюю неделю.\n",
        "- Предоставьте пользователю возможность визуализировать эти данные в простом текстовом формате (например, цены за день).\n",
        "\n",
        "Взаимодействие с пользователем:\n",
        "\n",
        "- Реализуйте интерфейс командной строки для ввода данных пользователем.\n",
        "- Предоставьте опции для получения текущих цен, управления портфелем, просмотра изменений цен или анализа исторических данных.\n"
      ],
      "metadata": {
        "id": "jsK7IKptU1ji"
      }
    },
    {
      "cell_type": "code",
      "source": [],
      "metadata": {
        "id": "_0DToTqlvywa"
      },
      "execution_count": null,
      "outputs": []
    },
    {
      "cell_type": "markdown",
      "source": [
        "# Дополнительно: Задание 4"
      ],
      "metadata": {
        "id": "QGrsZrv5U1s8"
      }
    },
    {
      "cell_type": "markdown",
      "source": [
        "Задание 4: Проектное\n",
        "\n",
        "Вам необходимо самостоятельно найти откртое API предоставляющее информацию в открытом доступе и реализовать собственный проект!\n",
        "\n",
        "\n",
        "Критерии приемки результата:\n",
        "\n",
        "- Проект включает в себя не менее 5 возможостей для пользователя\n",
        "- Проект позволяет использовать все возможности проекта пользователю при помощи взаимодействия через коммандную строку\n",
        "- Проект работает с открытым API (это значит что при проверке вашей работы преподавателем, преподавателю необходимо просто запустить ячейку с кодом вашего проекта и она будет работать без дополнительных манипуляции)\n",
        "- Проект должен обязательно включать в себя ряд используемых конструкции:\n",
        "    - Функции\n",
        "    - Условные конструкции\n",
        "    - Ввод/вывод\n",
        "    - Словари/Списки\n",
        "- Допускается использование библиотек:\n",
        "    - requests\n",
        "    - datetime\n",
        "    - random"
      ],
      "metadata": {
        "id": "qs_XITmYU1s8"
      }
    },
    {
      "cell_type": "markdown",
      "source": [
        "**Здесь добавьте описание вашего проекта**"
      ],
      "metadata": {
        "id": "VKXhaJi4FL0B"
      }
    },
    {
      "cell_type": "code",
      "execution_count": null,
      "metadata": {
        "id": "wiA55k1KU1s8"
      },
      "outputs": [],
      "source": [
        "#  А здесь код"
      ]
    }
  ]
}