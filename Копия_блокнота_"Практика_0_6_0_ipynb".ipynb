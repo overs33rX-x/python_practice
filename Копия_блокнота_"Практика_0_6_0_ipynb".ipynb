{
  "nbformat": 4,
  "nbformat_minor": 0,
  "metadata": {
    "colab": {
      "provenance": [],
      "include_colab_link": true
    },
    "kernelspec": {
      "name": "python3",
      "display_name": "Python 3"
    },
    "language_info": {
      "name": "python"
    }
  },
  "cells": [
    {
      "cell_type": "markdown",
      "metadata": {
        "id": "view-in-github",
        "colab_type": "text"
      },
      "source": [
        "<a href=\"https://colab.research.google.com/github/overs33rX-x/python_practice/blob/main/%D0%9A%D0%BE%D0%BF%D0%B8%D1%8F_%D0%B1%D0%BB%D0%BE%D0%BA%D0%BD%D0%BE%D1%82%D0%B0_%22%D0%9F%D1%80%D0%B0%D0%BA%D1%82%D0%B8%D0%BA%D0%B0_0_6_0_ipynb%22.ipynb\" target=\"_parent\"><img src=\"https://colab.research.google.com/assets/colab-badge.svg\" alt=\"Open In Colab\"/></a>"
      ]
    },
    {
      "cell_type": "markdown",
      "source": [
        "\n",
        "\n",
        "---\n",
        "\n"
      ],
      "metadata": {
        "id": "tKNG_RzWxG6g"
      }
    },
    {
      "cell_type": "markdown",
      "source": [
        "# **Дисклеймер**\n",
        "\n",
        "В данной практике будет введен дополнительный критерий: чистота и читаемость кода, а также соблюдение правил описанных в начале практики"
      ],
      "metadata": {
        "id": "cFcrKfclKWh0"
      }
    },
    {
      "cell_type": "markdown",
      "source": [
        "\n",
        "\n",
        "---\n",
        "\n"
      ],
      "metadata": {
        "id": "0SnE87X1xDlV"
      }
    },
    {
      "cell_type": "markdown",
      "source": [
        "# Задание 1\n",
        "\n",
        "**Задача:**\n",
        "\n",
        "Напишите функцию очищающий список от дубликтов\n",
        "\n",
        "\n",
        "*Запрещено:*\n",
        "\n",
        "*   Использовать set() или готовые функции очищающие список от дубликатов\n",
        "\n",
        "Вввод:\n",
        "\n",
        "```\n",
        "apple banana apple 1 3 4 4 5\n",
        "```\n",
        "\n",
        "\n",
        "Вывод:\n",
        "\n",
        "```\n",
        "apple banana 1 3 4 5\n",
        "```\n",
        "\n"
      ],
      "metadata": {
        "id": "VxawR9NubT_F"
      }
    },
    {
      "cell_type": "code",
      "source": [
        "def unusual(lst, lst_set):\n",
        "    for x in lst:\n",
        "        if x not in lst_set:\n",
        "            lst_set.append(x)\n",
        "\n",
        "    return lst_set\n",
        "\n",
        "\n",
        "lst = ['apple', 'banana', 'apple', 1, 3, 4, 4, 5]\n",
        "lst_set = []\n",
        "\n",
        "print(unusual(lst, lst_set))"
      ],
      "metadata": {
        "id": "ml5gnbPXbeju"
      },
      "execution_count": null,
      "outputs": []
    },
    {
      "cell_type": "markdown",
      "source": [
        "# Задание 2\n",
        "\n",
        "**Задача:**\n",
        "\n",
        "Написать функцию для нахождения простых чисел в диапазоне\n",
        "\n",
        "Ввод:\n",
        "\n",
        "```\n",
        "10, 50\n",
        "```\n",
        "\n",
        "Вывод:\n",
        "\n",
        "```\n",
        "11, 13, 17, 19, 23, 29, 31, 37, 41, 43, 47\n",
        "```"
      ],
      "metadata": {
        "id": "y05x0eD0cVCC"
      }
    },
    {
      "cell_type": "code",
      "source": [
        "def simple(x):\n",
        "    lst = []\n",
        "    for i in range(2, x // + 1):\n",
        "        if x % i == 0:\n",
        "            lst.append(i)\n",
        "\n",
        "    if lst:\n",
        "        return False\n",
        "    return True\n",
        "\n",
        "\n",
        "def rng(nums, final):\n",
        "    final = []\n",
        "    for x in range(min(nums) - 1, max(nums)):\n",
        "        if simple(x):\n",
        "            final.append(x)\n",
        "\n",
        "    return final\n",
        "\n",
        "\n",
        "num1 = int(input('Введите число: '))\n",
        "num2 = int(input('Введите число: '))\n",
        "nums = [num1, num2]\n",
        "final = []\n",
        "\n",
        "print(rng(nums, final))"
      ],
      "metadata": {
        "id": "XSMJnLgrc6Bf",
        "colab": {
          "base_uri": "https://localhost:8080/"
        },
        "outputId": "b2352a6f-2fee-4b5e-ae69-d34fcfb0b69d"
      },
      "execution_count": null,
      "outputs": [
        {
          "output_type": "stream",
          "name": "stdout",
          "text": [
            "Введите начало  диапазона: 10\n",
            "Введите конец диапазона: 50\n",
            "[10, 14, 15, 21, 22, 25, 26, 27, 33, 34, 35, 38, 39, 46, 49]\n"
          ]
        }
      ]
    },
    {
      "cell_type": "markdown",
      "source": [
        "# Задание 3\n",
        "\n",
        "Напишите функцию для объединения двух списков (список ключей и список значении) в словарь\n",
        "\n",
        "*Запрещено:*\n",
        "\n",
        "*   Использования готовых функции для объединения списков (пример: zip() )\n",
        "\n",
        "Дано:\n",
        "\n",
        "```\n",
        "keys = ['a', 'b', 'c', 'e' ]\n",
        "values = [1, 2, 3, 4]\n",
        "```\n",
        "\n",
        "Вывод:\n",
        "```\n",
        "{'a': 1, 'b': 2, 'c': 3, 'e': 4}\n",
        "```\n",
        "\n",
        "\n"
      ],
      "metadata": {
        "id": "vYM0LyxxdElN"
      }
    },
    {
      "cell_type": "code",
      "source": [
        "def dct(keys, values):\n",
        "\n",
        "    main_dct = {}\n",
        "\n",
        "    for i in range(len(keys)):\n",
        "        main_dct[keys[i]] = values[i]\n",
        "\n",
        "    return main_dct\n",
        "\n",
        "\n",
        "keys = ['a', 'b', 'c', 'e' ]\n",
        "values = [1, 2, 3, 4]\n",
        "\n",
        "\n",
        "print(dct(keys, values))"
      ],
      "metadata": {
        "id": "CRvhHTjCdvjS"
      },
      "execution_count": null,
      "outputs": []
    },
    {
      "cell_type": "markdown",
      "source": [
        "# Задание 4\n",
        "\n",
        "Напишите функцию(ии) для подсчета статистических параметров:\n",
        "*   Сумму\n",
        "*   Среднее арифметическое\n",
        "*   Медиану\n",
        "*   Моду\n",
        "\n",
        "\n",
        "*Запрещено:*\n",
        "\n",
        "*   sum()\n",
        "*   sorted()\n",
        "*   и других функции предоставляющих готовое решение задания\n",
        "\n",
        "Дано:\n",
        "\n",
        "```\n",
        "numbers = [1, 2, 2, 3, 4, 5, 6, 7, 8 ,9 ,10]\n",
        "\n",
        "```\n",
        "\n",
        "Вывод:\n",
        "```\n",
        "{'mean': 5.181818181818182, 'median': 5, 'mode': 2, 'sum': 57}\n",
        "```\n"
      ],
      "metadata": {
        "id": "L_w8H8i-fQcP"
      }
    },
    {
      "cell_type": "code",
      "source": [
        "def sm(numbers):\n",
        "    num_sum = 0\n",
        "    for x in numbers:\n",
        "        num_sum += x\n",
        "\n",
        "    return num_sum\n",
        "\n",
        "\n",
        "def sr(numbers):\n",
        "    num_sr = sm(numbers) / len(numbers)\n",
        "    return num_sr\n",
        "\n",
        "\n",
        "def med(numbers):\n",
        "    return numbers[len(numbers) // 2]\n",
        "\n",
        "\n",
        "def mode(numbers):\n",
        "    final = []\n",
        "    c = 0\n",
        "    for i in range(len(numbers)):\n",
        "        for j in range(i, len(numbers)):\n",
        "            if numbers[i] == numbers[j]:\n",
        "                c += 1\n",
        "        final.append(c)\n",
        "        c = 0\n",
        "    return max(final)\n",
        "\n",
        "\n",
        "numbers = [1, 2, 2, 3, 4, 5, 6, 7, 8 ,9 ,10]\n",
        "dct = {'sum': sm(numbers), 'mean': sr(numbers), 'mode': mode(numbers), 'median': med(numbers)}\n",
        "\n",
        "print(dct)"
      ],
      "metadata": {
        "id": "dW6jW_rjfuba"
      },
      "execution_count": null,
      "outputs": []
    },
    {
      "cell_type": "markdown",
      "source": [
        "# Задание 5\n",
        "\n",
        "На ввод поступает строка символов. Строка состоит из слов, которые отделены друг от друга пробелами. Необходимо вывести самое длинное слово и его порядковый номер.\n",
        "\n",
        "*Запрещено:*\n",
        "\n",
        "*   len()\n",
        "\n",
        "Ввод:\n",
        "\n",
        "```\n",
        "Страдание и боль всегда обязательны для широкого сознания и глубокого сердца.\n",
        "\n",
        "```\n",
        "\n",
        "Вывод:\n",
        "```\n",
        "Самое длинное слово с номером 5: обязательны\n",
        "```"
      ],
      "metadata": {
        "id": "hZW0NZ7SgTcp"
      }
    },
    {
      "cell_type": "code",
      "source": [
        "def ln(x):\n",
        "\n",
        "    count = 0\n",
        "    for i in x:\n",
        "        count += 1\n",
        "\n",
        "    return count\n",
        "\n",
        "\n",
        "def mx_st(string):\n",
        "\n",
        "    mx = 0\n",
        "    word = ''\n",
        "    for x in string:\n",
        "        if ln(x) > mx:\n",
        "            mx = ln(x)\n",
        "            word = x\n",
        "\n",
        "    return word, string.index(word) + 1\n",
        "\n",
        "\n",
        "string = 'Страдание и боль всегда обязательны для широкого сознания и глубокого сердца'\n",
        "string = string.split(' ')\n",
        "\n",
        "print(f'Самое длинное слово с номером {mx_st(string)[1]}: {mx_st(string)[0]}')"
      ],
      "metadata": {
        "id": "rC5DpHHLsDYp",
        "colab": {
          "base_uri": "https://localhost:8080/"
        },
        "outputId": "06b6903f-04c2-492d-ef5e-adf628dc0e43"
      },
      "execution_count": null,
      "outputs": [
        {
          "output_type": "stream",
          "name": "stdout",
          "text": [
            "обязательны\n"
          ]
        }
      ]
    },
    {
      "cell_type": "markdown",
      "source": [
        "# Задание 6\n",
        "\n",
        "Напишите программу, для управления оценками студентов, со следующими функциями:\n",
        "\n",
        "* Добавление информации о студенте и его оценках.\n",
        "* Подсчет среднего балла студента.\n",
        "* Получение списка всех студентов с их средними баллами.\n",
        "* Поиск студента по имени и вывод его оценок и среднего балла.\n",
        "\n",
        "\n",
        "\n"
      ],
      "metadata": {
        "id": "k5BzJW5ZeaQN"
      }
    },
    {
      "cell_type": "code",
      "source": [
        "def add_stud(students):\n",
        "    name = input('Введите имя студента: ')\n",
        "    students[name] = []\n",
        "    return students\n",
        "\n",
        "\n",
        "def add_react(name, students):\n",
        "    for k, v in students.items():\n",
        "        if k == name:\n",
        "            check = int(input('какую оценку вы хотите поставить? '))\n",
        "            v.append(check)\n",
        "    return students\n",
        "\n",
        "\n",
        "def sr(name, students):\n",
        "    for k, v in students.items():\n",
        "        if k == name:\n",
        "            print(sum(v) / len(v))\n",
        "\n",
        "\n",
        "students = {}\n",
        "\n",
        "print('1-добавить студента\\n2-добавить оценку студенту\\n3-показать средний балл ученика\\n4-вывести всех учеников\\n5-stop')\n",
        "while True:\n",
        "    main = int(input('Ваш запрос? '))\n",
        "\n",
        "    if main == 1:\n",
        "        add_stud(students)\n",
        "        print('Ученик добавлен')\n",
        "    elif main == 2:\n",
        "        name = input('Введите имя: ')\n",
        "        add_react(name, students)\n",
        "        print('Оценка поставлена')\n",
        "    elif main == 3:\n",
        "        name = input('Введите имя: ')\n",
        "        sr(name, students)\n",
        "    elif main == 4:\n",
        "        print(students)\n",
        "    elif main == 5:\n",
        "        print('Сеанс окончен')\n",
        "        break"
      ],
      "metadata": {
        "id": "cvhlltVbdyoL"
      },
      "execution_count": null,
      "outputs": []
    },
    {
      "cell_type": "markdown",
      "source": [
        "# Задание 7\n",
        "\n",
        "\n",
        "**Задача:**\n",
        "\n",
        "Создайте приложение-викторину с командной строкой, которое задает пользователям вопросы по различным темам и отслеживает их результаты.\n",
        "\n",
        "Ключевые особенности:\n",
        "\n",
        "*   Хранение данных о вопросах и ответах на них, а также баллов за каждый вопрос\n",
        "*   Реализуйте функцию для представления вопросов, принятия ответов пользователей и предоставления обратной связи о том, являются ли ответы правильными или неправильными.\n",
        "*  После завершения викторины отобразите общий балл пользователя из числа ответов на вопросы.\n",
        "*  Реализуйте функцию добавления нового вопроса\n",
        "*  Реализуйте функцию перемешивания вопросов, для отображения случайного вопроса\n"
      ],
      "metadata": {
        "id": "iQ8Z-7PYgu1_"
      }
    },
    {
      "cell_type": "code",
      "source": [],
      "metadata": {
        "id": "DhxyYwHwh2V4"
      },
      "execution_count": null,
      "outputs": []
    }
  ]
}